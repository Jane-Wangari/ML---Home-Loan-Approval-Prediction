{
 "cells": [
  {
   "cell_type": "markdown",
   "id": "420eafab",
   "metadata": {},
   "source": [
    "##  Home Loan Approval Prediction Project"
   ]
  },
  {
   "cell_type": "markdown",
   "id": "16b929c6",
   "metadata": {},
   "source": [
    "## Eligibility Prediction for Home Loan\n",
    "Predict whether loan would be approved or Not\n",
    "\n",
    "### Context\n",
    "Dream Housing Finance company deals in all kinds of home loans. They have presence \n",
    "across all urban, semi urban and rural areas. Customer first applies for home loan and after \n",
    "that company validates the customer eligibility for loan.\n",
    "\n",
    "Company wants to automate the loan eligibility process (real time) based on customer \n",
    "detail provided while filling online application form. These details are Gender, Marital \n",
    "Status, Education, Number of Dependents, Income, Loan Amount, Credit History and others. \n",
    "\n",
    "To automate this process, they have provided a dataset to identify the customers segments \n",
    "that are eligible for loan amount so that they can specifically target these customers.\n"
   ]
  },
  {
   "cell_type": "markdown",
   "id": "d0719d6c",
   "metadata": {},
   "source": [
    "## Problem Statement\n",
    "Daily, financial instructions face a huge flock of requests for loans. The process of managing \n",
    "and disbursing loans can be very sensitive and tedious given the various factors involved. \n",
    "To disburse requested loans to individuals in need, there are a set of criteria set down by \n",
    "individual financial institutions that require the applicants to be qualified to be granted a \n",
    "loan. \n",
    "\n",
    "The traditional loan management process is meticulous, and time-consuming, and requires \n",
    "collecting and verifying information about applicants, their trustworthiness, and their \n",
    "credibility. Further, the process involves calculating interest rates and supervising \n",
    "payments. \n",
    "\n",
    "The sensitivity of the loan process has therefore necessitated the need for strict and \n",
    "implementable policies on loan processes such as the efficient and automated method of \n",
    "loan management. This system is a digital platform that helps automate every stage of the \n",
    "loan lifecycle, from application to closing. Loan servicing software not only automates these \n",
    "procedures but also provides useful analytics and insights for lenders and borrowers. \n",
    "\n",
    "Unfortunately, for a few countries in developing worlds that are yet to fully integrate the \n",
    "electronic loan system, this has therefore led to the implementation of strict measures to be \n",
    "followed to ensure that eligibility criteria are critically vetted and the loan is disbursed to \n",
    "individuals according to their need and ability to pay back at the stated agreed timeframe."
   ]
  },
  {
   "cell_type": "code",
   "execution_count": 1,
   "id": "fab67925",
   "metadata": {},
   "outputs": [],
   "source": [
    "#Import libraries\n",
    "import numpy as np\n",
    "import pandas as pd\n",
    "import seaborn as sns\n",
    "import matplotlib.pyplot as plt\n",
    "%matplotlib inline\n",
    "\n",
    "from sklearn.model_selection import train_test_split\n",
    "from sklearn.linear_model import LogisticRegression\n",
    "from sklearn.preprocessing import MinMaxScaler\n",
    "from sklearn.metrics import confusion_matrix,accuracy_score,ConfusionMatrixDisplay,classification_report\n",
    "import category_encoders as ce\n",
    "from sklearn.tree import DecisionTreeClassifier\n",
    "from sklearn.metrics import accuracy_score,roc_auc_score\n",
    "from sklearn.metrics import roc_curve\n",
    "from sklearn.ensemble import RandomForestClassifier\n",
    "\n",
    "col_pal = sns.color_palette()\n",
    "plt.style.use(\"fivethirtyeight\")"
   ]
  },
  {
   "cell_type": "code",
   "execution_count": 2,
   "id": "8463f3b3",
   "metadata": {},
   "outputs": [],
   "source": [
    "#Load the dataframe\n",
    "df = pd.read_csv(\"Loan_Data.csv\")"
   ]
  },
  {
   "cell_type": "code",
   "execution_count": 3,
   "id": "07582895",
   "metadata": {},
   "outputs": [],
   "source": [
    "# Create a copy of the data to be used for predictions(ML)\n",
    "df1 = df.copy()"
   ]
  },
  {
   "cell_type": "code",
   "execution_count": 4,
   "id": "b3107af3",
   "metadata": {},
   "outputs": [
    {
     "data": {
      "text/html": [
       "<div>\n",
       "<style scoped>\n",
       "    .dataframe tbody tr th:only-of-type {\n",
       "        vertical-align: middle;\n",
       "    }\n",
       "\n",
       "    .dataframe tbody tr th {\n",
       "        vertical-align: top;\n",
       "    }\n",
       "\n",
       "    .dataframe thead th {\n",
       "        text-align: right;\n",
       "    }\n",
       "</style>\n",
       "<table border=\"1\" class=\"dataframe\">\n",
       "  <thead>\n",
       "    <tr style=\"text-align: right;\">\n",
       "      <th></th>\n",
       "      <th>Loan_ID</th>\n",
       "      <th>Gender</th>\n",
       "      <th>Married</th>\n",
       "      <th>Dependents</th>\n",
       "      <th>Education</th>\n",
       "      <th>Self_Employed</th>\n",
       "      <th>ApplicantIncome</th>\n",
       "      <th>CoapplicantIncome</th>\n",
       "      <th>LoanAmount</th>\n",
       "      <th>Loan_Amount_Term</th>\n",
       "      <th>Credit_History</th>\n",
       "      <th>Property_Area</th>\n",
       "      <th>Loan_Status</th>\n",
       "    </tr>\n",
       "  </thead>\n",
       "  <tbody>\n",
       "    <tr>\n",
       "      <th>0</th>\n",
       "      <td>LP001002</td>\n",
       "      <td>Male</td>\n",
       "      <td>No</td>\n",
       "      <td>0</td>\n",
       "      <td>Graduate</td>\n",
       "      <td>No</td>\n",
       "      <td>5849</td>\n",
       "      <td>0.0</td>\n",
       "      <td>NaN</td>\n",
       "      <td>360.0</td>\n",
       "      <td>1.0</td>\n",
       "      <td>Urban</td>\n",
       "      <td>Y</td>\n",
       "    </tr>\n",
       "    <tr>\n",
       "      <th>1</th>\n",
       "      <td>LP001003</td>\n",
       "      <td>Male</td>\n",
       "      <td>Yes</td>\n",
       "      <td>1</td>\n",
       "      <td>Graduate</td>\n",
       "      <td>No</td>\n",
       "      <td>4583</td>\n",
       "      <td>1508.0</td>\n",
       "      <td>128.0</td>\n",
       "      <td>360.0</td>\n",
       "      <td>1.0</td>\n",
       "      <td>Rural</td>\n",
       "      <td>N</td>\n",
       "    </tr>\n",
       "    <tr>\n",
       "      <th>2</th>\n",
       "      <td>LP001005</td>\n",
       "      <td>Male</td>\n",
       "      <td>Yes</td>\n",
       "      <td>0</td>\n",
       "      <td>Graduate</td>\n",
       "      <td>Yes</td>\n",
       "      <td>3000</td>\n",
       "      <td>0.0</td>\n",
       "      <td>66.0</td>\n",
       "      <td>360.0</td>\n",
       "      <td>1.0</td>\n",
       "      <td>Urban</td>\n",
       "      <td>Y</td>\n",
       "    </tr>\n",
       "    <tr>\n",
       "      <th>3</th>\n",
       "      <td>LP001006</td>\n",
       "      <td>Male</td>\n",
       "      <td>Yes</td>\n",
       "      <td>0</td>\n",
       "      <td>Not Graduate</td>\n",
       "      <td>No</td>\n",
       "      <td>2583</td>\n",
       "      <td>2358.0</td>\n",
       "      <td>120.0</td>\n",
       "      <td>360.0</td>\n",
       "      <td>1.0</td>\n",
       "      <td>Urban</td>\n",
       "      <td>Y</td>\n",
       "    </tr>\n",
       "    <tr>\n",
       "      <th>4</th>\n",
       "      <td>LP001008</td>\n",
       "      <td>Male</td>\n",
       "      <td>No</td>\n",
       "      <td>0</td>\n",
       "      <td>Graduate</td>\n",
       "      <td>No</td>\n",
       "      <td>6000</td>\n",
       "      <td>0.0</td>\n",
       "      <td>141.0</td>\n",
       "      <td>360.0</td>\n",
       "      <td>1.0</td>\n",
       "      <td>Urban</td>\n",
       "      <td>Y</td>\n",
       "    </tr>\n",
       "  </tbody>\n",
       "</table>\n",
       "</div>"
      ],
      "text/plain": [
       "    Loan_ID Gender Married Dependents     Education Self_Employed  \\\n",
       "0  LP001002   Male      No          0      Graduate            No   \n",
       "1  LP001003   Male     Yes          1      Graduate            No   \n",
       "2  LP001005   Male     Yes          0      Graduate           Yes   \n",
       "3  LP001006   Male     Yes          0  Not Graduate            No   \n",
       "4  LP001008   Male      No          0      Graduate            No   \n",
       "\n",
       "   ApplicantIncome  CoapplicantIncome  LoanAmount  Loan_Amount_Term  \\\n",
       "0             5849                0.0         NaN             360.0   \n",
       "1             4583             1508.0       128.0             360.0   \n",
       "2             3000                0.0        66.0             360.0   \n",
       "3             2583             2358.0       120.0             360.0   \n",
       "4             6000                0.0       141.0             360.0   \n",
       "\n",
       "   Credit_History Property_Area Loan_Status  \n",
       "0             1.0         Urban           Y  \n",
       "1             1.0         Rural           N  \n",
       "2             1.0         Urban           Y  \n",
       "3             1.0         Urban           Y  \n",
       "4             1.0         Urban           Y  "
      ]
     },
     "execution_count": 4,
     "metadata": {},
     "output_type": "execute_result"
    }
   ],
   "source": [
    "df.head()"
   ]
  },
  {
   "cell_type": "code",
   "execution_count": 5,
   "id": "d8593d2e",
   "metadata": {},
   "outputs": [
    {
     "name": "stdout",
     "output_type": "stream",
     "text": [
      "<class 'pandas.core.frame.DataFrame'>\n",
      "RangeIndex: 614 entries, 0 to 613\n",
      "Data columns (total 13 columns):\n",
      " #   Column             Non-Null Count  Dtype  \n",
      "---  ------             --------------  -----  \n",
      " 0   Loan_ID            614 non-null    object \n",
      " 1   Gender             601 non-null    object \n",
      " 2   Married            611 non-null    object \n",
      " 3   Dependents         599 non-null    object \n",
      " 4   Education          614 non-null    object \n",
      " 5   Self_Employed      582 non-null    object \n",
      " 6   ApplicantIncome    614 non-null    int64  \n",
      " 7   CoapplicantIncome  614 non-null    float64\n",
      " 8   LoanAmount         592 non-null    float64\n",
      " 9   Loan_Amount_Term   600 non-null    float64\n",
      " 10  Credit_History     564 non-null    float64\n",
      " 11  Property_Area      614 non-null    object \n",
      " 12  Loan_Status        614 non-null    object \n",
      "dtypes: float64(4), int64(1), object(8)\n",
      "memory usage: 62.5+ KB\n"
     ]
    }
   ],
   "source": [
    "df.info()"
   ]
  },
  {
   "cell_type": "code",
   "execution_count": 6,
   "id": "7d8974f5",
   "metadata": {},
   "outputs": [
    {
     "data": {
      "text/plain": [
       "0"
      ]
     },
     "execution_count": 6,
     "metadata": {},
     "output_type": "execute_result"
    }
   ],
   "source": [
    "#Check for duplicates\n",
    "df.duplicated().sum()"
   ]
  },
  {
   "cell_type": "code",
   "execution_count": 7,
   "id": "5f5a8dc4",
   "metadata": {},
   "outputs": [
    {
     "data": {
      "text/plain": [
       "(614, 13)"
      ]
     },
     "execution_count": 7,
     "metadata": {},
     "output_type": "execute_result"
    }
   ],
   "source": [
    "#Size\n",
    "df.shape"
   ]
  },
  {
   "cell_type": "code",
   "execution_count": 8,
   "id": "a38ca4b7",
   "metadata": {},
   "outputs": [
    {
     "data": {
      "text/plain": [
       "['Loan_ID',\n",
       " 'Gender',\n",
       " 'Married',\n",
       " 'Dependents',\n",
       " 'Education',\n",
       " 'Self_Employed',\n",
       " 'ApplicantIncome',\n",
       " 'CoapplicantIncome',\n",
       " 'LoanAmount',\n",
       " 'Loan_Amount_Term',\n",
       " 'Credit_History',\n",
       " 'Property_Area',\n",
       " 'Loan_Status']"
      ]
     },
     "execution_count": 8,
     "metadata": {},
     "output_type": "execute_result"
    }
   ],
   "source": [
    "# Columns\n",
    "df.columns.to_list()"
   ]
  },
  {
   "cell_type": "code",
   "execution_count": 9,
   "id": "afb13a0a",
   "metadata": {},
   "outputs": [
    {
     "name": "stdout",
     "output_type": "stream",
     "text": [
      "Missing values for each column: \n"
     ]
    },
    {
     "data": {
      "text/plain": [
       "Gender              13.0\n",
       "Married              3.0\n",
       "Dependents          15.0\n",
       "Self_Employed       32.0\n",
       "LoanAmount          22.0\n",
       "Loan_Amount_Term    14.0\n",
       "Credit_History      50.0\n",
       "dtype: float64"
      ]
     },
     "execution_count": 9,
     "metadata": {},
     "output_type": "execute_result"
    }
   ],
   "source": [
    "#Check for missing values\n",
    "def missing_values(x):\n",
    "    return(sum(x.isnull()))\n",
    "\n",
    "print(\"Missing values for each column: \")\n",
    "df.apply(missing_values).where(lambda x: x != 0).dropna()"
   ]
  },
  {
   "cell_type": "code",
   "execution_count": 10,
   "id": "20e23645",
   "metadata": {},
   "outputs": [
    {
     "name": "stdout",
     "output_type": "stream",
     "text": [
      "Gender column unique values:  ['Male' 'Female' nan]\n",
      "Married column unique values:  ['No' 'Yes' nan]\n",
      "Self employed column unique values: ['No' 'Yes' nan]\n",
      "Credit History column unique values:  [ 1.  0. nan]\n",
      "Loan Term column unique values:  [360. 120. 240.  nan 180.  60. 300. 480.  36.  84.  12.]\n"
     ]
    }
   ],
   "source": [
    "# Checking for unique values for different columns\n",
    "print(\"Gender column unique values: \",df.Gender.unique())\n",
    "print(\"Married column unique values: \",df.Married.unique())\n",
    "print(\"Self employed column unique values:\",df.Self_Employed.unique())\n",
    "print(\"Credit History column unique values: \",df.Credit_History.unique())\n",
    "print(\"Loan Term column unique values: \",df.Loan_Amount_Term.unique())"
   ]
  },
  {
   "cell_type": "markdown",
   "id": "b0f61c31",
   "metadata": {},
   "source": [
    "### Visualize to check for outliers"
   ]
  },
  {
   "cell_type": "code",
   "execution_count": 11,
   "id": "9eb214c4",
   "metadata": {},
   "outputs": [
    {
     "data": {
      "text/plain": [
       "Text(0, 0.5, \"Coapplicant's Income\")"
      ]
     },
     "execution_count": 11,
     "metadata": {},
     "output_type": "execute_result"
    },
    {
     "data": {
      "image/png": "[encoded data removed]",
      "text/plain": [
       "<Figure size 1080x432 with 4 Axes>"
      ]
     },
     "metadata": {},
     "output_type": "display_data"
    }
   ],
   "source": [
    "plt.figure(figsize = (15,6))\n",
    "plt.subplot(2,2,1)\n",
    "fig = df.boxplot(column = \"LoanAmount\")\n",
    "fig.set_ylabel(\" Loan Amount\")\n",
    "\n",
    "plt.subplot(2,2,2)\n",
    "fig = df.boxplot(column = \"Loan_Amount_Term\")\n",
    "fig.set_ylabel(\" Loan Term\")\n",
    "\n",
    "plt.subplot(2,2,3)\n",
    "fig = df.boxplot(column = \"ApplicantIncome\")\n",
    "fig.set_ylabel(\"Applicant's Income\")\n",
    "\n",
    "plt.subplot(2,2,4)\n",
    "fig = df.boxplot(column = \"CoapplicantIncome\")\n",
    "fig.set_ylabel(\"Coapplicant's Income\")\n"
   ]
  },
  {
   "cell_type": "code",
   "execution_count": 12,
   "id": "b40b954e",
   "metadata": {},
   "outputs": [],
   "source": [
    "# Quartiles\n",
    "q1 = df.quantile(0.25)\n",
    "q3 = df.quantile(0.75)\n",
    "IQR =  q3 - q1\n",
    "upper_r = q3 + (1.5 * IQR)\n",
    "lower_r = q1 - (1.5 * IQR)"
   ]
  },
  {
   "cell_type": "code",
   "execution_count": 13,
   "id": "8d4c1952",
   "metadata": {},
   "outputs": [
    {
     "name": "stdout",
     "output_type": "stream",
     "text": [
      "ApplicantIncome      10171.250\n",
      "CoapplicantIncome     5743.125\n",
      "LoanAmount             270.000\n",
      "Loan_Amount_Term       360.000\n",
      "Credit_History           1.000\n",
      "dtype: float64\n",
      "ApplicantIncome     -1498.750\n",
      "CoapplicantIncome   -3445.875\n",
      "LoanAmount             -2.000\n",
      "Loan_Amount_Term      360.000\n",
      "Credit_History          1.000\n",
      "dtype: float64\n"
     ]
    }
   ],
   "source": [
    "#Upper and lower quartiles\n",
    "print(upper_r)\n",
    "print(lower_r)"
   ]
  },
  {
   "cell_type": "code",
   "execution_count": 14,
   "id": "7ed27cea",
   "metadata": {},
   "outputs": [
    {
     "name": "stdout",
     "output_type": "stream",
     "text": [
      "Outliers, Applicant Income:  8.143322475570033 %\n",
      "Outliers, Coapplicant Income:  25.570032573289904 %\n",
      "Outliers, Loan Amount:  6.677524429967427 %\n",
      "Outliers, Loan Term:  14.332247557003258 %\n"
     ]
    }
   ],
   "source": [
    "#Checking the size and proportion of outliers in the respective columns\n",
    "print(\"Outliers, Applicant Income: \", (len(df.ApplicantIncome[df.ApplicantIncome > 10171.250]) + len(df.ApplicantIncome[df.ApplicantIncome < -1498.750]))/len(df)*100, \"%\")\n",
    "print(\"Outliers, Coapplicant Income: \", (len(df.CoapplicantIncome[df.ApplicantIncome > 5743.125]) + len(df.CoapplicantIncome[df.CoapplicantIncome < -3445.875]))/len(df)*100, \"%\")\n",
    "print(\"Outliers, Loan Amount: \", (len(df.LoanAmount[df.LoanAmount >  261.500]) + len(df.LoanAmount[df.LoanAmount < 3.500]))/len(df)*100, \"%\")\n",
    "print(\"Outliers, Loan Term: \", (len(df.Loan_Amount_Term [df.Loan_Amount_Term  > 360]) + len(df.Loan_Amount_Term [df.Loan_Amount_Term  < 360]))/len(df)*100, \"%\")"
   ]
  },
  {
   "cell_type": "markdown",
   "id": "9a18d683",
   "metadata": {},
   "source": [
    "- The percentage of outliers in different columns are many, removing them or replacing would have a negative effect on our analysis and predictions since the case is for loans it varies with different clients which is sensible.\n",
    "- There are outliers on the four columns thus it is best to fill the missing values with median and mode depending on the column."
   ]
  },
  {
   "cell_type": "code",
   "execution_count": 15,
   "id": "d5f40a05",
   "metadata": {},
   "outputs": [],
   "source": [
    "# Fill in for missing values\n",
    "df[\"Gender\"] = df[\"Gender\"].fillna(df[\"Gender\"].mode()[0])\n",
    "df[\"Married\"] = df[\"Married\"].fillna(df[\"Married\"].mode()[0])\n",
    "df[\"Dependents\"] = df[\"Dependents\"].fillna(df[\"Dependents\"].mode()[0])\n",
    "df[\"Self_Employed\"] = df[\"Self_Employed\"].fillna(df[\"Self_Employed\"].mode()[0])\n",
    "df[\"LoanAmount\"] = df[\"LoanAmount\"].fillna(df[\"LoanAmount\"].median())\n",
    "df[\"Loan_Amount_Term\"] = df[\"Loan_Amount_Term\"].fillna(df[\"Loan_Amount_Term\"].median())\n",
    "df[\"Credit_History\"] = df[\"Credit_History\"].fillna(df[\"Credit_History\"].mode()[0])"
   ]
  },
  {
   "cell_type": "code",
   "execution_count": 16,
   "id": "7e46cbed",
   "metadata": {},
   "outputs": [
    {
     "name": "stdout",
     "output_type": "stream",
     "text": [
      "<class 'pandas.core.frame.DataFrame'>\n",
      "RangeIndex: 614 entries, 0 to 613\n",
      "Data columns (total 13 columns):\n",
      " #   Column             Non-Null Count  Dtype  \n",
      "---  ------             --------------  -----  \n",
      " 0   Loan_ID            614 non-null    object \n",
      " 1   Gender             614 non-null    object \n",
      " 2   Married            614 non-null    object \n",
      " 3   Dependents         614 non-null    object \n",
      " 4   Education          614 non-null    object \n",
      " 5   Self_Employed      614 non-null    object \n",
      " 6   ApplicantIncome    614 non-null    int64  \n",
      " 7   CoapplicantIncome  614 non-null    float64\n",
      " 8   LoanAmount         614 non-null    float64\n",
      " 9   Loan_Amount_Term   614 non-null    float64\n",
      " 10  Credit_History     614 non-null    float64\n",
      " 11  Property_Area      614 non-null    object \n",
      " 12  Loan_Status        614 non-null    object \n",
      "dtypes: float64(4), int64(1), object(8)\n",
      "memory usage: 62.5+ KB\n"
     ]
    }
   ],
   "source": [
    "df.info()"
   ]
  },
  {
   "cell_type": "code",
   "execution_count": 17,
   "id": "49ec4c6a",
   "metadata": {},
   "outputs": [],
   "source": [
    "# Remove unnecessary columns\n",
    "df.drop([\"Loan_ID\"], axis = 1, inplace = True)"
   ]
  },
  {
   "cell_type": "code",
   "execution_count": 18,
   "id": "dcb1a128",
   "metadata": {},
   "outputs": [
    {
     "data": {
      "text/html": [
       "<div>\n",
       "<style scoped>\n",
       "    .dataframe tbody tr th:only-of-type {\n",
       "        vertical-align: middle;\n",
       "    }\n",
       "\n",
       "    .dataframe tbody tr th {\n",
       "        vertical-align: top;\n",
       "    }\n",
       "\n",
       "    .dataframe thead th {\n",
       "        text-align: right;\n",
       "    }\n",
       "</style>\n",
       "<table border=\"1\" class=\"dataframe\">\n",
       "  <thead>\n",
       "    <tr style=\"text-align: right;\">\n",
       "      <th></th>\n",
       "      <th>ApplicantIncome</th>\n",
       "      <th>CoapplicantIncome</th>\n",
       "      <th>LoanAmount</th>\n",
       "      <th>Loan_Amount_Term</th>\n",
       "      <th>Credit_History</th>\n",
       "    </tr>\n",
       "  </thead>\n",
       "  <tbody>\n",
       "    <tr>\n",
       "      <th>count</th>\n",
       "      <td>614.000000</td>\n",
       "      <td>614.000000</td>\n",
       "      <td>614.000000</td>\n",
       "      <td>614.000000</td>\n",
       "      <td>614.000000</td>\n",
       "    </tr>\n",
       "    <tr>\n",
       "      <th>mean</th>\n",
       "      <td>5403.459283</td>\n",
       "      <td>1621.245798</td>\n",
       "      <td>145.752443</td>\n",
       "      <td>342.410423</td>\n",
       "      <td>0.855049</td>\n",
       "    </tr>\n",
       "    <tr>\n",
       "      <th>std</th>\n",
       "      <td>6109.041673</td>\n",
       "      <td>2926.248369</td>\n",
       "      <td>84.107233</td>\n",
       "      <td>64.428629</td>\n",
       "      <td>0.352339</td>\n",
       "    </tr>\n",
       "    <tr>\n",
       "      <th>min</th>\n",
       "      <td>150.000000</td>\n",
       "      <td>0.000000</td>\n",
       "      <td>9.000000</td>\n",
       "      <td>12.000000</td>\n",
       "      <td>0.000000</td>\n",
       "    </tr>\n",
       "    <tr>\n",
       "      <th>25%</th>\n",
       "      <td>2877.500000</td>\n",
       "      <td>0.000000</td>\n",
       "      <td>100.250000</td>\n",
       "      <td>360.000000</td>\n",
       "      <td>1.000000</td>\n",
       "    </tr>\n",
       "    <tr>\n",
       "      <th>50%</th>\n",
       "      <td>3812.500000</td>\n",
       "      <td>1188.500000</td>\n",
       "      <td>128.000000</td>\n",
       "      <td>360.000000</td>\n",
       "      <td>1.000000</td>\n",
       "    </tr>\n",
       "    <tr>\n",
       "      <th>75%</th>\n",
       "      <td>5795.000000</td>\n",
       "      <td>2297.250000</td>\n",
       "      <td>164.750000</td>\n",
       "      <td>360.000000</td>\n",
       "      <td>1.000000</td>\n",
       "    </tr>\n",
       "    <tr>\n",
       "      <th>max</th>\n",
       "      <td>81000.000000</td>\n",
       "      <td>41667.000000</td>\n",
       "      <td>700.000000</td>\n",
       "      <td>480.000000</td>\n",
       "      <td>1.000000</td>\n",
       "    </tr>\n",
       "  </tbody>\n",
       "</table>\n",
       "</div>"
      ],
      "text/plain": [
       "       ApplicantIncome  CoapplicantIncome  LoanAmount  Loan_Amount_Term  \\\n",
       "count       614.000000         614.000000  614.000000        614.000000   \n",
       "mean       5403.459283        1621.245798  145.752443        342.410423   \n",
       "std        6109.041673        2926.248369   84.107233         64.428629   \n",
       "min         150.000000           0.000000    9.000000         12.000000   \n",
       "25%        2877.500000           0.000000  100.250000        360.000000   \n",
       "50%        3812.500000        1188.500000  128.000000        360.000000   \n",
       "75%        5795.000000        2297.250000  164.750000        360.000000   \n",
       "max       81000.000000       41667.000000  700.000000        480.000000   \n",
       "\n",
       "       Credit_History  \n",
       "count      614.000000  \n",
       "mean         0.855049  \n",
       "std          0.352339  \n",
       "min          0.000000  \n",
       "25%          1.000000  \n",
       "50%          1.000000  \n",
       "75%          1.000000  \n",
       "max          1.000000  "
      ]
     },
     "execution_count": 18,
     "metadata": {},
     "output_type": "execute_result"
    }
   ],
   "source": [
    "#Statistical description of the data\n",
    "df.describe()"
   ]
  },
  {
   "cell_type": "markdown",
   "id": "b344a57e",
   "metadata": {},
   "source": [
    "### EDA"
   ]
  },
  {
   "cell_type": "code",
   "execution_count": 19,
   "id": "b549b5f3",
   "metadata": {},
   "outputs": [
    {
     "data": {
      "text/plain": [
       "Text(0.5, 1.0, 'Comparison between males and females')"
      ]
     },
     "execution_count": 19,
     "metadata": {},
     "output_type": "execute_result"
    },
    {
     "data": {
      "image/png": "[encoded data removed]",
      "text/plain": [
       "<Figure size 720x432 with 1 Axes>"
      ]
     },
     "metadata": {},
     "output_type": "display_data"
    }
   ],
   "source": [
    "# Proportion of males and females applying for the home loan\n",
    "plt.figure(figsize = (10,6))\n",
    "df[\"Gender\"].value_counts().plot(kind = \"pie\", autopct ='%1.1f%%')\n",
    "plt.title(\"Comparison between males and females\")"
   ]
  },
  {
   "cell_type": "markdown",
   "id": "0571c17c",
   "metadata": {},
   "source": [
    "The larger part of the population that applied for the home loan were men"
   ]
  },
  {
   "cell_type": "code",
   "execution_count": 20,
   "id": "ebb80ef7",
   "metadata": {},
   "outputs": [
    {
     "data": {
      "text/plain": [
       "<AxesSubplot:xlabel='Gender,Loan_Status'>"
      ]
     },
     "execution_count": 20,
     "metadata": {},
     "output_type": "execute_result"
    },
    {
     "data": {
      "image/png": "[encoded data removed]",
      "text/plain": [
       "<Figure size 720x432 with 1 Axes>"
      ]
     },
     "metadata": {},
     "output_type": "display_data"
    }
   ],
   "source": [
    "#Loan status by gender\n",
    "plt.figure(figsize = (10,6))\n",
    "df.groupby([\"Gender\"])[[\"Loan_Status\"]].value_counts().plot(kind = \"bar\", color = [\"red\", \"blue\"])"
   ]
  },
  {
   "cell_type": "code",
   "execution_count": 21,
   "id": "3b84912f",
   "metadata": {},
   "outputs": [
    {
     "data": {
      "text/plain": [
       "<AxesSubplot:xlabel='Married,Loan_Status'>"
      ]
     },
     "execution_count": 21,
     "metadata": {},
     "output_type": "execute_result"
    },
    {
     "data": {
      "image/png": "[encoded data removed]",
      "text/plain": [
       "<Figure size 720x432 with 1 Axes>"
      ]
     },
     "metadata": {},
     "output_type": "display_data"
    }
   ],
   "source": [
    "# Married and Loan status distribution\n",
    "plt.figure(figsize = (10,6))\n",
    "df.groupby(\"Married\")[[\"Loan_Status\"]].value_counts().plot(kind = 'bar',color = [\"Red\", \"Blue\"])"
   ]
  },
  {
   "cell_type": "markdown",
   "id": "792d6dc4",
   "metadata": {},
   "source": [
    "Married people apply for a home loan more compared to the unmarried, most are approved."
   ]
  },
  {
   "cell_type": "code",
   "execution_count": 22,
   "id": "80d31012",
   "metadata": {},
   "outputs": [
    {
     "name": "stdout",
     "output_type": "stream",
     "text": [
      "0     58.631922\n",
      "1     16.612378\n",
      "2     16.449511\n",
      "3+     8.306189\n",
      "Name: Dependents, dtype: float64\n"
     ]
    },
    {
     "data": {
      "text/plain": [
       "Text(0.5, 1.0, \"Client's Dependents by percentage\")"
      ]
     },
     "execution_count": 22,
     "metadata": {},
     "output_type": "execute_result"
    },
    {
     "data": {
      "image/png": "[encoded data removed]",
      "text/plain": [
       "<Figure size 720x432 with 1 Axes>"
      ]
     },
     "metadata": {},
     "output_type": "display_data"
    }
   ],
   "source": [
    "# Client's dependents\n",
    "print(df[\"Dependents\"].value_counts(normalize = True) * 100)\n",
    "plt.figure(figsize = (10,6))\n",
    "(df[\"Dependents\"].value_counts(normalize = True) * 100).plot(kind = 'bar');\n",
    "plt.title(\"Client's Dependents by percentage\")"
   ]
  },
  {
   "cell_type": "markdown",
   "id": "8305b304",
   "metadata": {},
   "source": [
    "Majority of the home loan applicants do not have dependents; about 58% of the applicants. Only few clients with three or more dependents take home loans."
   ]
  },
  {
   "cell_type": "code",
   "execution_count": 23,
   "id": "9724a960",
   "metadata": {},
   "outputs": [
    {
     "data": {
      "text/plain": [
       "Text(0.5, 1.0, \"Loan Status depending on the client's dependents\")"
      ]
     },
     "execution_count": 23,
     "metadata": {},
     "output_type": "execute_result"
    },
    {
     "data": {
      "image/png": "[encoded data removed]",
      "text/plain": [
       "<Figure size 720x432 with 1 Axes>"
      ]
     },
     "metadata": {},
     "output_type": "display_data"
    }
   ],
   "source": [
    "# Relationship between dependents and loan status\n",
    "plt.figure(figsize = (10, 6))\n",
    "df.groupby(\"Dependents\")[[\"Loan_Status\"]].value_counts().plot(kind = \"barh\", color = [\"Red\", \"Blue\"])\n",
    "plt.title(\"Loan Status depending on the client's dependents\")"
   ]
  },
  {
   "cell_type": "markdown",
   "id": "0fe54bd4",
   "metadata": {},
   "source": [
    "Most clients applying for home loans have no dependents, with most of them being approved for the loan."
   ]
  },
  {
   "cell_type": "code",
   "execution_count": 24,
   "id": "4858acad",
   "metadata": {},
   "outputs": [
    {
     "data": {
      "text/plain": [
       "<AxesSubplot:ylabel='Education'>"
      ]
     },
     "execution_count": 24,
     "metadata": {},
     "output_type": "execute_result"
    },
    {
     "data": {
      "image/png": "[encoded data removed]",
      "text/plain": [
       "<Figure size 720x432 with 1 Axes>"
      ]
     },
     "metadata": {},
     "output_type": "display_data"
    }
   ],
   "source": [
    "# Education Level of the homeloan applicants\n",
    "plt.figure(figsize = (10,6))\n",
    "df[\"Education\"].value_counts().plot(kind = \"pie\", autopct = \"%1.1f%%\")"
   ]
  },
  {
   "cell_type": "markdown",
   "id": "3d1b2d97",
   "metadata": {},
   "source": [
    "More than three- quarters of the clients are graduates"
   ]
  },
  {
   "cell_type": "code",
   "execution_count": 25,
   "id": "effef993",
   "metadata": {},
   "outputs": [
    {
     "name": "stdout",
     "output_type": "stream",
     "text": [
      "Education     Loan_Status\n",
      "Graduate      Y              340\n",
      "              N              140\n",
      "Not Graduate  Y               82\n",
      "              N               52\n",
      "dtype: int64\n"
     ]
    },
    {
     "data": {
      "image/png": "[encoded data removed]",
      "text/plain": [
       "<Figure size 720x432 with 1 Axes>"
      ]
     },
     "metadata": {},
     "output_type": "display_data"
    }
   ],
   "source": [
    "# A view of how education impacts loan borrowing\n",
    "plt.figure(figsize = (10,6))\n",
    "print(df.groupby(\"Education\")[[\"Loan_Status\"]].value_counts())\n",
    "df.groupby(\"Education\")[[\"Loan_Status\"]].value_counts().plot(kind = \"bar\", color = [\"red\", \"blue\"]);"
   ]
  },
  {
   "cell_type": "markdown",
   "id": "a3f4408a",
   "metadata": {},
   "source": [
    "Graduates tend to apply for more home loans compared to non-graduates. Although more graduates apply for the loan, a larger portion of Non-Graduates are approved for the home loan compared to the graduates."
   ]
  },
  {
   "cell_type": "code",
   "execution_count": 26,
   "id": "0ad6224e",
   "metadata": {},
   "outputs": [
    {
     "name": "stdout",
     "output_type": "stream",
     "text": [
      "Self_Employed  Loan_Status\n",
      "No             Y              366\n",
      "               N              166\n",
      "Yes            Y               56\n",
      "               N               26\n",
      "dtype: int64\n"
     ]
    },
    {
     "data": {
      "text/plain": [
       "Text(0.5, 1.0, 'Self Employed and Non Self Employed by Loan Status')"
      ]
     },
     "execution_count": 26,
     "metadata": {},
     "output_type": "execute_result"
    },
    {
     "data": {
      "image/png": "[encoded data removed]",
      "text/plain": [
       "<Figure size 720x432 with 1 Axes>"
      ]
     },
     "metadata": {},
     "output_type": "display_data"
    }
   ],
   "source": [
    "# Employment status\n",
    "plt.figure(figsize = (10, 6))\n",
    "print(df.groupby([\"Self_Employed\"])[[\"Loan_Status\"]].value_counts())\n",
    "df.groupby([\"Self_Employed\"])[[\"Loan_Status\"]].value_counts().plot(kind = \"bar\", color = [\"Red\", \"Blue\"]);\n",
    "plt.title(\"Self Employed and Non Self Employed by Loan Status\")"
   ]
  },
  {
   "cell_type": "markdown",
   "id": "26afb6bb",
   "metadata": {},
   "source": [
    "Self employed people tend to take home loans less as compared to the non - self employed."
   ]
  },
  {
   "cell_type": "code",
   "execution_count": 27,
   "id": "115f3181",
   "metadata": {},
   "outputs": [
    {
     "data": {
      "image/png": "[encoded data removed]",
      "text/plain": [
       "<Figure size 720x432 with 1 Axes>"
      ]
     },
     "metadata": {},
     "output_type": "display_data"
    }
   ],
   "source": [
    "# Relationship between the applicant's income and Loan amount\n",
    "plt.figure(figsize = (10, 6))\n",
    "sns.scatterplot(x = df.ApplicantIncome, y = df.LoanAmount)\n",
    "plt.title(\"Relationship between Income and Loan Amount\")\n",
    "plt.show()"
   ]
  },
  {
   "cell_type": "markdown",
   "id": "7ff991f8",
   "metadata": {},
   "source": [
    "Most of the clients applying for home loans have a low income( below 20,000).Most qualify for a low amount of loan. High income people are applying less for the home loan."
   ]
  },
  {
   "cell_type": "code",
   "execution_count": 28,
   "id": "4b7a74b7",
   "metadata": {},
   "outputs": [
    {
     "data": {
      "image/png": "[encoded data removed]",
      "text/plain": [
       "<Figure size 720x432 with 1 Axes>"
      ]
     },
     "metadata": {},
     "output_type": "display_data"
    }
   ],
   "source": [
    "# Relationship between the Loan amount and Loan term\n",
    "plt.figure(figsize = (10, 6))\n",
    "sns.scatterplot(y = df.Loan_Amount_Term , x = df.LoanAmount)\n",
    "plt.title(\"Relationship between Loan Term and Loan Amount\")\n",
    "plt.show()"
   ]
  },
  {
   "cell_type": "markdown",
   "id": "643293f8",
   "metadata": {},
   "source": [
    "Applicants with same loan term may qualify for different loan amounts"
   ]
  },
  {
   "cell_type": "code",
   "execution_count": 29,
   "id": "076c1752",
   "metadata": {},
   "outputs": [
    {
     "data": {
      "text/plain": [
       "<matplotlib.legend.Legend at 0x15afadd88e0>"
      ]
     },
     "execution_count": 29,
     "metadata": {},
     "output_type": "execute_result"
    },
    {
     "data": {
      "image/png": "[encoded data removed]",
      "text/plain": [
       "<Figure size 720x432 with 1 Axes>"
      ]
     },
     "metadata": {},
     "output_type": "display_data"
    }
   ],
   "source": [
    "# Are loans approved based on a client's credit history\n",
    "plt.figure(figsize = (10,6))\n",
    "df.groupby(\"Loan_Status\")[[\"Credit_History\"]].value_counts().plot(kind = \"bar\", color = [\"red\", \"Blue\"])\n",
    "plt.legend(\"off\")"
   ]
  },
  {
   "cell_type": "markdown",
   "id": "9810755c",
   "metadata": {},
   "source": [
    "Clients who have a credit history of 1.0 are likely to be approved for  a home loan."
   ]
  },
  {
   "cell_type": "code",
   "execution_count": 30,
   "id": "70e7799d",
   "metadata": {},
   "outputs": [
    {
     "name": "stdout",
     "output_type": "stream",
     "text": [
      "1.0    525\n",
      "0.0     89\n",
      "Name: Credit_History, dtype: int64\n"
     ]
    },
    {
     "data": {
      "image/png": "[encoded data removed]",
      "text/plain": [
       "<Figure size 720x432 with 1 Axes>"
      ]
     },
     "metadata": {},
     "output_type": "display_data"
    }
   ],
   "source": [
    "# General view of clients applying for the home loan credit history\n",
    "plt.figure(figsize = (10,6))\n",
    "print(df[\"Credit_History\"].value_counts())\n",
    "df[\"Credit_History\"].value_counts().plot(kind = \"bar\")\n",
    "plt.title(\"Total Applicants by Credit History\")\n",
    "plt.show()"
   ]
  },
  {
   "cell_type": "markdown",
   "id": "6b614412",
   "metadata": {},
   "source": [
    "Most clients applying for the home loan have a credit history of 1.0."
   ]
  },
  {
   "cell_type": "code",
   "execution_count": 31,
   "id": "f0b1eb30",
   "metadata": {},
   "outputs": [
    {
     "name": "stdout",
     "output_type": "stream",
     "text": [
      "Property_Area  Loan_Status\n",
      "Rural          Y              110\n",
      "               N               69\n",
      "Semiurban      Y              179\n",
      "               N               54\n",
      "Urban          Y              133\n",
      "               N               69\n",
      "dtype: int64\n"
     ]
    },
    {
     "data": {
      "image/png": "[encoded data removed]",
      "text/plain": [
       "<Figure size 720x432 with 1 Axes>"
      ]
     },
     "metadata": {},
     "output_type": "display_data"
    }
   ],
   "source": [
    "# Loan status and the applicant's property area\n",
    "plt.figure(figsize = (10,6))\n",
    "print(df.groupby(\"Property_Area\")[[\"Loan_Status\"]].value_counts())\n",
    "df.groupby(\"Property_Area\")[[\"Loan_Status\"]].value_counts().plot(kind = \"bar\", color = [\"red\", \"blue\"]);\n",
    "plt.show()"
   ]
  },
  {
   "cell_type": "markdown",
   "id": "4405edc7",
   "metadata": {},
   "source": [
    "Most home loan applicants are in the semi urban area, with most of them being approved for loans."
   ]
  },
  {
   "cell_type": "code",
   "execution_count": 32,
   "id": "e08eb600",
   "metadata": {},
   "outputs": [
    {
     "data": {
      "image/png": "[encoded data removed]",
      "text/plain": [
       "<Figure size 720x432 with 1 Axes>"
      ]
     },
     "metadata": {},
     "output_type": "display_data"
    }
   ],
   "source": [
    "# Are applicants approved or rejected for their loans\n",
    "plt.figure(figsize = (10,6))\n",
    "df[\"Loan_Status\"].value_counts().plot(kind = \"bar\", color = [\"red\", \"blue\"])\n",
    "plt.show()"
   ]
  },
  {
   "cell_type": "code",
   "execution_count": 33,
   "id": "a98cfaa2",
   "metadata": {},
   "outputs": [
    {
     "name": "stdout",
     "output_type": "stream",
     "text": [
      "68.73 % of applicants are approved for the home loan\n",
      "31.27 % of applicants are  not approved for the home loan\n"
     ]
    }
   ],
   "source": [
    "# General home loan Approval\n",
    "Approved =round((len(df.loc[df['Loan_Status']==\"Y\"])/ len(df[\"Loan_Status\"]) * 100), 2)\n",
    "Rejected = round((len(df.loc[df['Loan_Status']==\"N\"])/ len(df[\"Loan_Status\"]) * 100), 2)\n",
    "\n",
    "print(Approved  , \"% of applicants are approved for the home loan\")\n",
    "print(Rejected  , \"% of applicants are  not approved for the home loan\")"
   ]
  },
  {
   "cell_type": "markdown",
   "id": "1ad76199",
   "metadata": {},
   "source": [
    "About 1/3 of the clients applying for the home loan have not been approved."
   ]
  },
  {
   "cell_type": "code",
   "execution_count": 34,
   "id": "250bc39f",
   "metadata": {},
   "outputs": [
    {
     "data": {
      "text/html": [
       "<div>\n",
       "<style scoped>\n",
       "    .dataframe tbody tr th:only-of-type {\n",
       "        vertical-align: middle;\n",
       "    }\n",
       "\n",
       "    .dataframe tbody tr th {\n",
       "        vertical-align: top;\n",
       "    }\n",
       "\n",
       "    .dataframe thead th {\n",
       "        text-align: right;\n",
       "    }\n",
       "</style>\n",
       "<table border=\"1\" class=\"dataframe\">\n",
       "  <thead>\n",
       "    <tr style=\"text-align: right;\">\n",
       "      <th></th>\n",
       "      <th>ApplicantIncome</th>\n",
       "      <th>CoapplicantIncome</th>\n",
       "      <th>LoanAmount</th>\n",
       "      <th>Loan_Amount_Term</th>\n",
       "      <th>Credit_History</th>\n",
       "    </tr>\n",
       "  </thead>\n",
       "  <tbody>\n",
       "    <tr>\n",
       "      <th>ApplicantIncome</th>\n",
       "      <td>1.000000</td>\n",
       "      <td>-0.116605</td>\n",
       "      <td>0.565181</td>\n",
       "      <td>-0.046531</td>\n",
       "      <td>-0.018615</td>\n",
       "    </tr>\n",
       "    <tr>\n",
       "      <th>CoapplicantIncome</th>\n",
       "      <td>-0.116605</td>\n",
       "      <td>1.000000</td>\n",
       "      <td>0.189218</td>\n",
       "      <td>-0.059383</td>\n",
       "      <td>0.011134</td>\n",
       "    </tr>\n",
       "    <tr>\n",
       "      <th>LoanAmount</th>\n",
       "      <td>0.565181</td>\n",
       "      <td>0.189218</td>\n",
       "      <td>1.000000</td>\n",
       "      <td>0.036960</td>\n",
       "      <td>-0.000607</td>\n",
       "    </tr>\n",
       "    <tr>\n",
       "      <th>Loan_Amount_Term</th>\n",
       "      <td>-0.046531</td>\n",
       "      <td>-0.059383</td>\n",
       "      <td>0.036960</td>\n",
       "      <td>1.000000</td>\n",
       "      <td>-0.004705</td>\n",
       "    </tr>\n",
       "    <tr>\n",
       "      <th>Credit_History</th>\n",
       "      <td>-0.018615</td>\n",
       "      <td>0.011134</td>\n",
       "      <td>-0.000607</td>\n",
       "      <td>-0.004705</td>\n",
       "      <td>1.000000</td>\n",
       "    </tr>\n",
       "  </tbody>\n",
       "</table>\n",
       "</div>"
      ],
      "text/plain": [
       "                   ApplicantIncome  CoapplicantIncome  LoanAmount  \\\n",
       "ApplicantIncome           1.000000          -0.116605    0.565181   \n",
       "CoapplicantIncome        -0.116605           1.000000    0.189218   \n",
       "LoanAmount                0.565181           0.189218    1.000000   \n",
       "Loan_Amount_Term         -0.046531          -0.059383    0.036960   \n",
       "Credit_History           -0.018615           0.011134   -0.000607   \n",
       "\n",
       "                   Loan_Amount_Term  Credit_History  \n",
       "ApplicantIncome           -0.046531       -0.018615  \n",
       "CoapplicantIncome         -0.059383        0.011134  \n",
       "LoanAmount                 0.036960       -0.000607  \n",
       "Loan_Amount_Term           1.000000       -0.004705  \n",
       "Credit_History            -0.004705        1.000000  "
      ]
     },
     "execution_count": 34,
     "metadata": {},
     "output_type": "execute_result"
    }
   ],
   "source": [
    "# Correlation between the numerical values\n",
    "cor = df.corr()\n",
    "cor"
   ]
  },
  {
   "cell_type": "code",
   "execution_count": 35,
   "id": "c72de2a3",
   "metadata": {},
   "outputs": [
    {
     "data": {
      "text/plain": [
       "<AxesSubplot:>"
      ]
     },
     "execution_count": 35,
     "metadata": {},
     "output_type": "execute_result"
    },
    {
     "data": {
      "image/png": "[encoded data removed]",
      "text/plain": [
       "<Figure size 720x432 with 2 Axes>"
      ]
     },
     "metadata": {},
     "output_type": "display_data"
    }
   ],
   "source": [
    "# A visual of the correlations\n",
    "plt.figure(figsize = (10,6))\n",
    "sns.heatmap(cor, annot = True)"
   ]
  },
  {
   "cell_type": "markdown",
   "id": "8bd1d9e5",
   "metadata": {},
   "source": [
    "There is a negative correlation between most of the variables which shows an inverse relationship. There is a positive correlation between the loan amount and most of the variables."
   ]
  },
  {
   "cell_type": "markdown",
   "id": "d9ff8c2e",
   "metadata": {},
   "source": [
    "# ML Predictions"
   ]
  },
  {
   "cell_type": "code",
   "execution_count": 36,
   "id": "971626dc",
   "metadata": {},
   "outputs": [
    {
     "data": {
      "text/html": [
       "<div>\n",
       "<style scoped>\n",
       "    .dataframe tbody tr th:only-of-type {\n",
       "        vertical-align: middle;\n",
       "    }\n",
       "\n",
       "    .dataframe tbody tr th {\n",
       "        vertical-align: top;\n",
       "    }\n",
       "\n",
       "    .dataframe thead th {\n",
       "        text-align: right;\n",
       "    }\n",
       "</style>\n",
       "<table border=\"1\" class=\"dataframe\">\n",
       "  <thead>\n",
       "    <tr style=\"text-align: right;\">\n",
       "      <th></th>\n",
       "      <th>Loan_ID</th>\n",
       "      <th>Gender</th>\n",
       "      <th>Married</th>\n",
       "      <th>Dependents</th>\n",
       "      <th>Education</th>\n",
       "      <th>Self_Employed</th>\n",
       "      <th>ApplicantIncome</th>\n",
       "      <th>CoapplicantIncome</th>\n",
       "      <th>LoanAmount</th>\n",
       "      <th>Loan_Amount_Term</th>\n",
       "      <th>Credit_History</th>\n",
       "      <th>Property_Area</th>\n",
       "      <th>Loan_Status</th>\n",
       "    </tr>\n",
       "  </thead>\n",
       "  <tbody>\n",
       "    <tr>\n",
       "      <th>0</th>\n",
       "      <td>LP001002</td>\n",
       "      <td>Male</td>\n",
       "      <td>No</td>\n",
       "      <td>0</td>\n",
       "      <td>Graduate</td>\n",
       "      <td>No</td>\n",
       "      <td>5849</td>\n",
       "      <td>0.0</td>\n",
       "      <td>NaN</td>\n",
       "      <td>360.0</td>\n",
       "      <td>1.0</td>\n",
       "      <td>Urban</td>\n",
       "      <td>Y</td>\n",
       "    </tr>\n",
       "    <tr>\n",
       "      <th>1</th>\n",
       "      <td>LP001003</td>\n",
       "      <td>Male</td>\n",
       "      <td>Yes</td>\n",
       "      <td>1</td>\n",
       "      <td>Graduate</td>\n",
       "      <td>No</td>\n",
       "      <td>4583</td>\n",
       "      <td>1508.0</td>\n",
       "      <td>128.0</td>\n",
       "      <td>360.0</td>\n",
       "      <td>1.0</td>\n",
       "      <td>Rural</td>\n",
       "      <td>N</td>\n",
       "    </tr>\n",
       "    <tr>\n",
       "      <th>2</th>\n",
       "      <td>LP001005</td>\n",
       "      <td>Male</td>\n",
       "      <td>Yes</td>\n",
       "      <td>0</td>\n",
       "      <td>Graduate</td>\n",
       "      <td>Yes</td>\n",
       "      <td>3000</td>\n",
       "      <td>0.0</td>\n",
       "      <td>66.0</td>\n",
       "      <td>360.0</td>\n",
       "      <td>1.0</td>\n",
       "      <td>Urban</td>\n",
       "      <td>Y</td>\n",
       "    </tr>\n",
       "    <tr>\n",
       "      <th>3</th>\n",
       "      <td>LP001006</td>\n",
       "      <td>Male</td>\n",
       "      <td>Yes</td>\n",
       "      <td>0</td>\n",
       "      <td>Not Graduate</td>\n",
       "      <td>No</td>\n",
       "      <td>2583</td>\n",
       "      <td>2358.0</td>\n",
       "      <td>120.0</td>\n",
       "      <td>360.0</td>\n",
       "      <td>1.0</td>\n",
       "      <td>Urban</td>\n",
       "      <td>Y</td>\n",
       "    </tr>\n",
       "    <tr>\n",
       "      <th>4</th>\n",
       "      <td>LP001008</td>\n",
       "      <td>Male</td>\n",
       "      <td>No</td>\n",
       "      <td>0</td>\n",
       "      <td>Graduate</td>\n",
       "      <td>No</td>\n",
       "      <td>6000</td>\n",
       "      <td>0.0</td>\n",
       "      <td>141.0</td>\n",
       "      <td>360.0</td>\n",
       "      <td>1.0</td>\n",
       "      <td>Urban</td>\n",
       "      <td>Y</td>\n",
       "    </tr>\n",
       "  </tbody>\n",
       "</table>\n",
       "</div>"
      ],
      "text/plain": [
       "    Loan_ID Gender Married Dependents     Education Self_Employed  \\\n",
       "0  LP001002   Male      No          0      Graduate            No   \n",
       "1  LP001003   Male     Yes          1      Graduate            No   \n",
       "2  LP001005   Male     Yes          0      Graduate           Yes   \n",
       "3  LP001006   Male     Yes          0  Not Graduate            No   \n",
       "4  LP001008   Male      No          0      Graduate            No   \n",
       "\n",
       "   ApplicantIncome  CoapplicantIncome  LoanAmount  Loan_Amount_Term  \\\n",
       "0             5849                0.0         NaN             360.0   \n",
       "1             4583             1508.0       128.0             360.0   \n",
       "2             3000                0.0        66.0             360.0   \n",
       "3             2583             2358.0       120.0             360.0   \n",
       "4             6000                0.0       141.0             360.0   \n",
       "\n",
       "   Credit_History Property_Area Loan_Status  \n",
       "0             1.0         Urban           Y  \n",
       "1             1.0         Rural           N  \n",
       "2             1.0         Urban           Y  \n",
       "3             1.0         Urban           Y  \n",
       "4             1.0         Urban           Y  "
      ]
     },
     "execution_count": 36,
     "metadata": {},
     "output_type": "execute_result"
    }
   ],
   "source": [
    "df1.head()"
   ]
  },
  {
   "cell_type": "code",
   "execution_count": 37,
   "id": "29405119",
   "metadata": {},
   "outputs": [
    {
     "data": {
      "text/plain": [
       "(614, 13)"
      ]
     },
     "execution_count": 37,
     "metadata": {},
     "output_type": "execute_result"
    }
   ],
   "source": [
    "# Size\n",
    "df1.shape"
   ]
  },
  {
   "cell_type": "code",
   "execution_count": 38,
   "id": "1336a11c",
   "metadata": {},
   "outputs": [
    {
     "data": {
      "text/plain": [
       "Index(['Loan_ID', 'Gender', 'Married', 'Dependents', 'Education',\n",
       "       'Self_Employed', 'ApplicantIncome', 'CoapplicantIncome', 'LoanAmount',\n",
       "       'Loan_Amount_Term', 'Credit_History', 'Property_Area', 'Loan_Status'],\n",
       "      dtype='object')"
      ]
     },
     "execution_count": 38,
     "metadata": {},
     "output_type": "execute_result"
    }
   ],
   "source": [
    "# Columns\n",
    "df1.columns"
   ]
  },
  {
   "cell_type": "code",
   "execution_count": 39,
   "id": "f946ade3",
   "metadata": {},
   "outputs": [],
   "source": [
    "#Drop unnecessary columns\n",
    "df1.drop(\"Loan_ID\", axis = 1, inplace = True)"
   ]
  },
  {
   "cell_type": "code",
   "execution_count": 40,
   "id": "99471e28",
   "metadata": {},
   "outputs": [
    {
     "data": {
      "text/plain": [
       "Index(['Gender', 'Married', 'Dependents', 'Education', 'Self_Employed',\n",
       "       'ApplicantIncome', 'CoapplicantIncome', 'LoanAmount',\n",
       "       'Loan_Amount_Term', 'Credit_History', 'Property_Area', 'Loan_Status'],\n",
       "      dtype='object')"
      ]
     },
     "execution_count": 40,
     "metadata": {},
     "output_type": "execute_result"
    }
   ],
   "source": [
    "df1.columns"
   ]
  },
  {
   "cell_type": "code",
   "execution_count": 41,
   "id": "dfba6404",
   "metadata": {},
   "outputs": [
    {
     "name": "stdout",
     "output_type": "stream",
     "text": [
      "<class 'pandas.core.frame.DataFrame'>\n",
      "RangeIndex: 614 entries, 0 to 613\n",
      "Data columns (total 12 columns):\n",
      " #   Column             Non-Null Count  Dtype  \n",
      "---  ------             --------------  -----  \n",
      " 0   Gender             601 non-null    object \n",
      " 1   Married            611 non-null    object \n",
      " 2   Dependents         599 non-null    object \n",
      " 3   Education          614 non-null    object \n",
      " 4   Self_Employed      582 non-null    object \n",
      " 5   ApplicantIncome    614 non-null    int64  \n",
      " 6   CoapplicantIncome  614 non-null    float64\n",
      " 7   LoanAmount         592 non-null    float64\n",
      " 8   Loan_Amount_Term   600 non-null    float64\n",
      " 9   Credit_History     564 non-null    float64\n",
      " 10  Property_Area      614 non-null    object \n",
      " 11  Loan_Status        614 non-null    object \n",
      "dtypes: float64(4), int64(1), object(7)\n",
      "memory usage: 57.7+ KB\n"
     ]
    }
   ],
   "source": [
    "df1.info()"
   ]
  },
  {
   "cell_type": "code",
   "execution_count": 42,
   "id": "0cfa76c6",
   "metadata": {},
   "outputs": [],
   "source": [
    "# Target and Features\n",
    "X = df1.drop(\"Loan_Status\", axis = 1)\n",
    "y = df1[\"Loan_Status\"]"
   ]
  },
  {
   "cell_type": "code",
   "execution_count": 43,
   "id": "549edd2c",
   "metadata": {},
   "outputs": [
    {
     "data": {
      "text/plain": [
       "Index(['Gender', 'Married', 'Dependents', 'Education', 'Self_Employed',\n",
       "       'ApplicantIncome', 'CoapplicantIncome', 'LoanAmount',\n",
       "       'Loan_Amount_Term', 'Credit_History', 'Property_Area'],\n",
       "      dtype='object')"
      ]
     },
     "execution_count": 43,
     "metadata": {},
     "output_type": "execute_result"
    }
   ],
   "source": [
    "X.columns"
   ]
  },
  {
   "cell_type": "code",
   "execution_count": 44,
   "id": "d385ec5d",
   "metadata": {},
   "outputs": [],
   "source": [
    "# Split to training and testing data\n",
    "X_train, X_test, y_train, y_test = train_test_split(X,y, test_size = 0.25, random_state = 0)"
   ]
  },
  {
   "cell_type": "code",
   "execution_count": 45,
   "id": "c2ba38a1",
   "metadata": {},
   "outputs": [
    {
     "name": "stdout",
     "output_type": "stream",
     "text": [
      "The shape of the splits: \n",
      "\n",
      "X_train:  (460, 11)\n",
      "X_test:  (154, 11) \n",
      "\n",
      "y_train:  (460,)\n",
      "y_test:  (154,)\n"
     ]
    }
   ],
   "source": [
    "# Size of the splits\n",
    "print(\"The shape of the splits: \\n\")\n",
    "print(\"X_train: \", X_train.shape)\n",
    "print(\"X_test: \", X_test.shape,'\\n')\n",
    "print(\"y_train: \", y_train.shape)\n",
    "print(\"y_test: \", y_test.shape)"
   ]
  },
  {
   "cell_type": "code",
   "execution_count": 46,
   "id": "e982065c",
   "metadata": {},
   "outputs": [
    {
     "data": {
      "text/plain": [
       "Gender                object\n",
       "Married               object\n",
       "Dependents            object\n",
       "Education             object\n",
       "Self_Employed         object\n",
       "ApplicantIncome        int64\n",
       "CoapplicantIncome    float64\n",
       "LoanAmount           float64\n",
       "Loan_Amount_Term     float64\n",
       "Credit_History       float64\n",
       "Property_Area         object\n",
       "dtype: object"
      ]
     },
     "execution_count": 46,
     "metadata": {},
     "output_type": "execute_result"
    }
   ],
   "source": [
    "X_train.dtypes"
   ]
  },
  {
   "cell_type": "code",
   "execution_count": 47,
   "id": "b5036e59",
   "metadata": {},
   "outputs": [
    {
     "name": "stdout",
     "output_type": "stream",
     "text": [
      "['Gender', 'Married', 'Dependents', 'Education', 'Self_Employed', 'Property_Area']\n"
     ]
    }
   ],
   "source": [
    "# Categorical  feature columns\n",
    "categorical_cols = [var for var in X_train.columns if X_train[var].dtypes == \"O\"]\n",
    "print(categorical_cols)"
   ]
  },
  {
   "cell_type": "code",
   "execution_count": 48,
   "id": "beafbf8b",
   "metadata": {},
   "outputs": [
    {
     "name": "stdout",
     "output_type": "stream",
     "text": [
      "['ApplicantIncome', 'CoapplicantIncome', 'LoanAmount', 'Loan_Amount_Term', 'Credit_History']\n"
     ]
    }
   ],
   "source": [
    "# Numerical feature columns\n",
    "numerical_cols = [num for num in X_train.columns if X_train[num].dtypes != \"O\"]\n",
    "print(numerical_cols)"
   ]
  },
  {
   "cell_type": "code",
   "execution_count": 49,
   "id": "8aa240dc",
   "metadata": {},
   "outputs": [
    {
     "name": "stdout",
     "output_type": "stream",
     "text": [
      "Missing values for the X_test column: \n",
      "\n",
      "Gender               2.0\n",
      "Dependents           1.0\n",
      "Self_Employed        4.0\n",
      "LoanAmount           2.0\n",
      "Loan_Amount_Term     3.0\n",
      "Credit_History      12.0\n",
      "dtype: float64\n",
      "Missing values for the X_train column: \n",
      "\n",
      "Gender              11.0\n",
      "Married              3.0\n",
      "Dependents          14.0\n",
      "Self_Employed       28.0\n",
      "LoanAmount          20.0\n",
      "Loan_Amount_Term    11.0\n",
      "Credit_History      38.0\n",
      "dtype: float64\n"
     ]
    }
   ],
   "source": [
    "# Check for missing values\n",
    "def missing_values(x):\n",
    "    return(sum(x.isna()))\n",
    "print(\"Missing values for the X_test column: \\n\")\n",
    "\n",
    "print(X_test.apply(missing_values).where(lambda x: x!= 0).dropna())\n",
    "print(\"Missing values for the X_train column: \\n\")\n",
    "print(X_train.apply(missing_values).where(lambda x: x != 0).dropna())"
   ]
  },
  {
   "cell_type": "code",
   "execution_count": 50,
   "id": "d50e9df9",
   "metadata": {},
   "outputs": [
    {
     "data": {
      "text/plain": [
       "0"
      ]
     },
     "execution_count": 50,
     "metadata": {},
     "output_type": "execute_result"
    }
   ],
   "source": [
    "y_train.isna().sum()"
   ]
  },
  {
   "cell_type": "code",
   "execution_count": 51,
   "id": "2c9308fb",
   "metadata": {},
   "outputs": [
    {
     "data": {
      "text/plain": [
       "0"
      ]
     },
     "execution_count": 51,
     "metadata": {},
     "output_type": "execute_result"
    }
   ],
   "source": [
    "y_test.isna().sum()"
   ]
  },
  {
   "cell_type": "code",
   "execution_count": 52,
   "id": "20800df7",
   "metadata": {},
   "outputs": [],
   "source": [
    "# Fill in missing values for categorical columns.\n",
    "for a in [X_train, X_test]:\n",
    "    a[\"Gender\"].fillna(X_train[\"Gender\"].mode()[0], inplace=True)\n",
    "    a[\"Married\"].fillna(X_train[\"Married\"].mode()[0], inplace=True)\n",
    "    a[\"Dependents\"].fillna(X_train[\"Dependents\"].mode()[0], inplace=True)\n",
    "    a[\"Self_Employed\"].fillna(X_train[\"Self_Employed\"].mode()[0], inplace=True)"
   ]
  },
  {
   "cell_type": "code",
   "execution_count": 53,
   "id": "91358c54",
   "metadata": {},
   "outputs": [],
   "source": [
    "#Filling missing values for numerical columns\n",
    "for b in [X_train,X_test]:\n",
    "    b[\"LoanAmount\"].fillna(X_train[\"LoanAmount\"].median(), inplace = True)\n",
    "    b[\"Loan_Amount_Term\"].fillna(X_train[\"Loan_Amount_Term\"].median(), inplace = True)\n",
    "    b[\"Credit_History\"].fillna(X_train[\"Credit_History\"].mode()[0], inplace = True)"
   ]
  },
  {
   "cell_type": "code",
   "execution_count": 54,
   "id": "e85bd57e",
   "metadata": {},
   "outputs": [
    {
     "name": "stdout",
     "output_type": "stream",
     "text": [
      "Missing values for the X_test column: \n",
      "\n",
      "Series([], dtype: float64)\n",
      "Missing values for the X_train column: \n",
      "\n",
      "Series([], dtype: float64)\n"
     ]
    }
   ],
   "source": [
    "# Check for missing values after filling them:\n",
    "def missing_values(x):\n",
    "    return(sum(x.isna()))\n",
    "            \n",
    "print(\"Missing values for the X_test column: \\n\")\n",
    "\n",
    "print(X_test.apply(missing_values).where(lambda x: x!= 0).dropna())\n",
    "print(\"Missing values for the X_train column: \\n\")\n",
    "print(X_train.apply(missing_values).where(lambda x: x != 0).dropna())"
   ]
  },
  {
   "cell_type": "code",
   "execution_count": 55,
   "id": "789ce47d",
   "metadata": {},
   "outputs": [
    {
     "data": {
      "text/plain": [
       "['Gender',\n",
       " 'Married',\n",
       " 'Dependents',\n",
       " 'Education',\n",
       " 'Self_Employed',\n",
       " 'Property_Area']"
      ]
     },
     "execution_count": 55,
     "metadata": {},
     "output_type": "execute_result"
    }
   ],
   "source": [
    "categorical_cols"
   ]
  },
  {
   "cell_type": "markdown",
   "id": "8745228d",
   "metadata": {},
   "source": [
    "### Feature Engineering"
   ]
  },
  {
   "cell_type": "code",
   "execution_count": 56,
   "id": "0b1bd1b3",
   "metadata": {},
   "outputs": [
    {
     "name": "stdout",
     "output_type": "stream",
     "text": [
      "Gender contains 2 values\n",
      "Married contains 2 values\n",
      "Dependents contains 4 values\n",
      "Education contains 2 values\n",
      "Self_Employed contains 2 values\n",
      "Property_Area contains 3 values\n"
     ]
    }
   ],
   "source": [
    "# Unique Values for the categorical columns\n",
    "for var in categorical_cols:\n",
    "    print(var, \"contains\", len(df[var].unique()), \"values\")\n"
   ]
  },
  {
   "cell_type": "code",
   "execution_count": 57,
   "id": "515ab734",
   "metadata": {},
   "outputs": [],
   "source": [
    "# Categorical encoding for our binary columns\n",
    "encoder =ce.BinaryEncoder(cols=['Gender', \"Married\", \"Education\", \"Self_Employed\"])\n",
    "X_train= encoder.fit_transform(X_train)\n",
    "X_test= encoder.fit_transform(X_test)"
   ]
  },
  {
   "cell_type": "code",
   "execution_count": 58,
   "id": "e66045d0",
   "metadata": {},
   "outputs": [
    {
     "data": {
      "text/plain": [
       "Index(['Gender_0', 'Gender_1', 'Married_0', 'Married_1', 'Dependents',\n",
       "       'Education_0', 'Education_1', 'Self_Employed_0', 'Self_Employed_1',\n",
       "       'ApplicantIncome', 'CoapplicantIncome', 'LoanAmount',\n",
       "       'Loan_Amount_Term', 'Credit_History', 'Property_Area'],\n",
       "      dtype='object')"
      ]
     },
     "execution_count": 58,
     "metadata": {},
     "output_type": "execute_result"
    }
   ],
   "source": [
    "X_train.columns"
   ]
  },
  {
   "cell_type": "code",
   "execution_count": 59,
   "id": "c5da2058",
   "metadata": {},
   "outputs": [
    {
     "data": {
      "text/html": [
       "<div>\n",
       "<style scoped>\n",
       "    .dataframe tbody tr th:only-of-type {\n",
       "        vertical-align: middle;\n",
       "    }\n",
       "\n",
       "    .dataframe tbody tr th {\n",
       "        vertical-align: top;\n",
       "    }\n",
       "\n",
       "    .dataframe thead th {\n",
       "        text-align: right;\n",
       "    }\n",
       "</style>\n",
       "<table border=\"1\" class=\"dataframe\">\n",
       "  <thead>\n",
       "    <tr style=\"text-align: right;\">\n",
       "      <th></th>\n",
       "      <th>Gender_0</th>\n",
       "      <th>Gender_1</th>\n",
       "      <th>Married_0</th>\n",
       "      <th>Married_1</th>\n",
       "      <th>Dependents</th>\n",
       "      <th>Education_0</th>\n",
       "      <th>Education_1</th>\n",
       "      <th>Self_Employed_0</th>\n",
       "      <th>Self_Employed_1</th>\n",
       "      <th>ApplicantIncome</th>\n",
       "      <th>CoapplicantIncome</th>\n",
       "      <th>LoanAmount</th>\n",
       "      <th>Loan_Amount_Term</th>\n",
       "      <th>Credit_History</th>\n",
       "      <th>Property_Area</th>\n",
       "    </tr>\n",
       "  </thead>\n",
       "  <tbody>\n",
       "    <tr>\n",
       "      <th>46</th>\n",
       "      <td>0</td>\n",
       "      <td>1</td>\n",
       "      <td>0</td>\n",
       "      <td>1</td>\n",
       "      <td>1</td>\n",
       "      <td>0</td>\n",
       "      <td>1</td>\n",
       "      <td>0</td>\n",
       "      <td>1</td>\n",
       "      <td>5649</td>\n",
       "      <td>0.0</td>\n",
       "      <td>44.0</td>\n",
       "      <td>360.0</td>\n",
       "      <td>1.0</td>\n",
       "      <td>Urban</td>\n",
       "    </tr>\n",
       "    <tr>\n",
       "      <th>272</th>\n",
       "      <td>0</td>\n",
       "      <td>1</td>\n",
       "      <td>1</td>\n",
       "      <td>0</td>\n",
       "      <td>0</td>\n",
       "      <td>0</td>\n",
       "      <td>1</td>\n",
       "      <td>0</td>\n",
       "      <td>1</td>\n",
       "      <td>2833</td>\n",
       "      <td>1857.0</td>\n",
       "      <td>126.0</td>\n",
       "      <td>360.0</td>\n",
       "      <td>1.0</td>\n",
       "      <td>Rural</td>\n",
       "    </tr>\n",
       "    <tr>\n",
       "      <th>474</th>\n",
       "      <td>0</td>\n",
       "      <td>1</td>\n",
       "      <td>1</td>\n",
       "      <td>0</td>\n",
       "      <td>2</td>\n",
       "      <td>0</td>\n",
       "      <td>1</td>\n",
       "      <td>0</td>\n",
       "      <td>1</td>\n",
       "      <td>5532</td>\n",
       "      <td>4648.0</td>\n",
       "      <td>162.0</td>\n",
       "      <td>360.0</td>\n",
       "      <td>1.0</td>\n",
       "      <td>Rural</td>\n",
       "    </tr>\n",
       "    <tr>\n",
       "      <th>382</th>\n",
       "      <td>1</td>\n",
       "      <td>0</td>\n",
       "      <td>1</td>\n",
       "      <td>0</td>\n",
       "      <td>0</td>\n",
       "      <td>0</td>\n",
       "      <td>1</td>\n",
       "      <td>0</td>\n",
       "      <td>1</td>\n",
       "      <td>6000</td>\n",
       "      <td>0.0</td>\n",
       "      <td>156.0</td>\n",
       "      <td>360.0</td>\n",
       "      <td>1.0</td>\n",
       "      <td>Urban</td>\n",
       "    </tr>\n",
       "    <tr>\n",
       "      <th>283</th>\n",
       "      <td>1</td>\n",
       "      <td>0</td>\n",
       "      <td>1</td>\n",
       "      <td>0</td>\n",
       "      <td>0</td>\n",
       "      <td>0</td>\n",
       "      <td>1</td>\n",
       "      <td>0</td>\n",
       "      <td>1</td>\n",
       "      <td>1811</td>\n",
       "      <td>1666.0</td>\n",
       "      <td>54.0</td>\n",
       "      <td>360.0</td>\n",
       "      <td>1.0</td>\n",
       "      <td>Urban</td>\n",
       "    </tr>\n",
       "    <tr>\n",
       "      <th>...</th>\n",
       "      <td>...</td>\n",
       "      <td>...</td>\n",
       "      <td>...</td>\n",
       "      <td>...</td>\n",
       "      <td>...</td>\n",
       "      <td>...</td>\n",
       "      <td>...</td>\n",
       "      <td>...</td>\n",
       "      <td>...</td>\n",
       "      <td>...</td>\n",
       "      <td>...</td>\n",
       "      <td>...</td>\n",
       "      <td>...</td>\n",
       "      <td>...</td>\n",
       "      <td>...</td>\n",
       "    </tr>\n",
       "    <tr>\n",
       "      <th>277</th>\n",
       "      <td>0</td>\n",
       "      <td>1</td>\n",
       "      <td>0</td>\n",
       "      <td>1</td>\n",
       "      <td>0</td>\n",
       "      <td>0</td>\n",
       "      <td>1</td>\n",
       "      <td>0</td>\n",
       "      <td>1</td>\n",
       "      <td>3103</td>\n",
       "      <td>1300.0</td>\n",
       "      <td>80.0</td>\n",
       "      <td>360.0</td>\n",
       "      <td>1.0</td>\n",
       "      <td>Urban</td>\n",
       "    </tr>\n",
       "    <tr>\n",
       "      <th>9</th>\n",
       "      <td>0</td>\n",
       "      <td>1</td>\n",
       "      <td>0</td>\n",
       "      <td>1</td>\n",
       "      <td>1</td>\n",
       "      <td>0</td>\n",
       "      <td>1</td>\n",
       "      <td>0</td>\n",
       "      <td>1</td>\n",
       "      <td>12841</td>\n",
       "      <td>10968.0</td>\n",
       "      <td>349.0</td>\n",
       "      <td>360.0</td>\n",
       "      <td>1.0</td>\n",
       "      <td>Semiurban</td>\n",
       "    </tr>\n",
       "    <tr>\n",
       "      <th>359</th>\n",
       "      <td>0</td>\n",
       "      <td>1</td>\n",
       "      <td>0</td>\n",
       "      <td>1</td>\n",
       "      <td>3+</td>\n",
       "      <td>0</td>\n",
       "      <td>1</td>\n",
       "      <td>0</td>\n",
       "      <td>1</td>\n",
       "      <td>5167</td>\n",
       "      <td>3167.0</td>\n",
       "      <td>200.0</td>\n",
       "      <td>360.0</td>\n",
       "      <td>1.0</td>\n",
       "      <td>Semiurban</td>\n",
       "    </tr>\n",
       "    <tr>\n",
       "      <th>192</th>\n",
       "      <td>0</td>\n",
       "      <td>1</td>\n",
       "      <td>0</td>\n",
       "      <td>1</td>\n",
       "      <td>0</td>\n",
       "      <td>1</td>\n",
       "      <td>0</td>\n",
       "      <td>0</td>\n",
       "      <td>1</td>\n",
       "      <td>6033</td>\n",
       "      <td>0.0</td>\n",
       "      <td>160.0</td>\n",
       "      <td>360.0</td>\n",
       "      <td>1.0</td>\n",
       "      <td>Urban</td>\n",
       "    </tr>\n",
       "    <tr>\n",
       "      <th>559</th>\n",
       "      <td>1</td>\n",
       "      <td>0</td>\n",
       "      <td>0</td>\n",
       "      <td>1</td>\n",
       "      <td>0</td>\n",
       "      <td>0</td>\n",
       "      <td>1</td>\n",
       "      <td>0</td>\n",
       "      <td>1</td>\n",
       "      <td>4180</td>\n",
       "      <td>2306.0</td>\n",
       "      <td>182.0</td>\n",
       "      <td>360.0</td>\n",
       "      <td>1.0</td>\n",
       "      <td>Semiurban</td>\n",
       "    </tr>\n",
       "  </tbody>\n",
       "</table>\n",
       "<p>460 rows × 15 columns</p>\n",
       "</div>"
      ],
      "text/plain": [
       "     Gender_0  Gender_1  Married_0  Married_1 Dependents  Education_0  \\\n",
       "46          0         1          0          1          1            0   \n",
       "272         0         1          1          0          0            0   \n",
       "474         0         1          1          0          2            0   \n",
       "382         1         0          1          0          0            0   \n",
       "283         1         0          1          0          0            0   \n",
       "..        ...       ...        ...        ...        ...          ...   \n",
       "277         0         1          0          1          0            0   \n",
       "9           0         1          0          1          1            0   \n",
       "359         0         1          0          1         3+            0   \n",
       "192         0         1          0          1          0            1   \n",
       "559         1         0          0          1          0            0   \n",
       "\n",
       "     Education_1  Self_Employed_0  Self_Employed_1  ApplicantIncome  \\\n",
       "46             1                0                1             5649   \n",
       "272            1                0                1             2833   \n",
       "474            1                0                1             5532   \n",
       "382            1                0                1             6000   \n",
       "283            1                0                1             1811   \n",
       "..           ...              ...              ...              ...   \n",
       "277            1                0                1             3103   \n",
       "9              1                0                1            12841   \n",
       "359            1                0                1             5167   \n",
       "192            0                0                1             6033   \n",
       "559            1                0                1             4180   \n",
       "\n",
       "     CoapplicantIncome  LoanAmount  Loan_Amount_Term  Credit_History  \\\n",
       "46                 0.0        44.0             360.0             1.0   \n",
       "272             1857.0       126.0             360.0             1.0   \n",
       "474             4648.0       162.0             360.0             1.0   \n",
       "382                0.0       156.0             360.0             1.0   \n",
       "283             1666.0        54.0             360.0             1.0   \n",
       "..                 ...         ...               ...             ...   \n",
       "277             1300.0        80.0             360.0             1.0   \n",
       "9              10968.0       349.0             360.0             1.0   \n",
       "359             3167.0       200.0             360.0             1.0   \n",
       "192                0.0       160.0             360.0             1.0   \n",
       "559             2306.0       182.0             360.0             1.0   \n",
       "\n",
       "    Property_Area  \n",
       "46          Urban  \n",
       "272         Rural  \n",
       "474         Rural  \n",
       "382         Urban  \n",
       "283         Urban  \n",
       "..            ...  \n",
       "277         Urban  \n",
       "9       Semiurban  \n",
       "359     Semiurban  \n",
       "192         Urban  \n",
       "559     Semiurban  \n",
       "\n",
       "[460 rows x 15 columns]"
      ]
     },
     "execution_count": 59,
     "metadata": {},
     "output_type": "execute_result"
    }
   ],
   "source": [
    "X_train"
   ]
  },
  {
   "cell_type": "code",
   "execution_count": 60,
   "id": "6b35c70c",
   "metadata": {},
   "outputs": [],
   "source": [
    "#Combining the numerical columns, encoded columns and the encoded non binary columns for the train data\n",
    "X_train = pd.concat([X_train[numerical_cols],X_train[['Gender_0', 'Gender_1', 'Married_0', 'Married_1', 'Dependents',\n",
    "       'Education_0', 'Education_1', 'Self_Employed_0', 'Self_Employed_1']],\n",
    "                pd.get_dummies(X_train.Dependents),pd.get_dummies(X_train.Property_Area)], axis = 1)"
   ]
  },
  {
   "cell_type": "code",
   "execution_count": 61,
   "id": "3d2944ce",
   "metadata": {},
   "outputs": [
    {
     "data": {
      "text/html": [
       "<div>\n",
       "<style scoped>\n",
       "    .dataframe tbody tr th:only-of-type {\n",
       "        vertical-align: middle;\n",
       "    }\n",
       "\n",
       "    .dataframe tbody tr th {\n",
       "        vertical-align: top;\n",
       "    }\n",
       "\n",
       "    .dataframe thead th {\n",
       "        text-align: right;\n",
       "    }\n",
       "</style>\n",
       "<table border=\"1\" class=\"dataframe\">\n",
       "  <thead>\n",
       "    <tr style=\"text-align: right;\">\n",
       "      <th></th>\n",
       "      <th>ApplicantIncome</th>\n",
       "      <th>CoapplicantIncome</th>\n",
       "      <th>LoanAmount</th>\n",
       "      <th>Loan_Amount_Term</th>\n",
       "      <th>Credit_History</th>\n",
       "      <th>Gender_0</th>\n",
       "      <th>Gender_1</th>\n",
       "      <th>Married_0</th>\n",
       "      <th>Married_1</th>\n",
       "      <th>Dependents</th>\n",
       "      <th>...</th>\n",
       "      <th>Education_1</th>\n",
       "      <th>Self_Employed_0</th>\n",
       "      <th>Self_Employed_1</th>\n",
       "      <th>0</th>\n",
       "      <th>1</th>\n",
       "      <th>2</th>\n",
       "      <th>3+</th>\n",
       "      <th>Rural</th>\n",
       "      <th>Semiurban</th>\n",
       "      <th>Urban</th>\n",
       "    </tr>\n",
       "  </thead>\n",
       "  <tbody>\n",
       "    <tr>\n",
       "      <th>46</th>\n",
       "      <td>5649</td>\n",
       "      <td>0.0</td>\n",
       "      <td>44.0</td>\n",
       "      <td>360.0</td>\n",
       "      <td>1.0</td>\n",
       "      <td>0</td>\n",
       "      <td>1</td>\n",
       "      <td>0</td>\n",
       "      <td>1</td>\n",
       "      <td>1</td>\n",
       "      <td>...</td>\n",
       "      <td>1</td>\n",
       "      <td>0</td>\n",
       "      <td>1</td>\n",
       "      <td>0</td>\n",
       "      <td>1</td>\n",
       "      <td>0</td>\n",
       "      <td>0</td>\n",
       "      <td>0</td>\n",
       "      <td>0</td>\n",
       "      <td>1</td>\n",
       "    </tr>\n",
       "    <tr>\n",
       "      <th>272</th>\n",
       "      <td>2833</td>\n",
       "      <td>1857.0</td>\n",
       "      <td>126.0</td>\n",
       "      <td>360.0</td>\n",
       "      <td>1.0</td>\n",
       "      <td>0</td>\n",
       "      <td>1</td>\n",
       "      <td>1</td>\n",
       "      <td>0</td>\n",
       "      <td>0</td>\n",
       "      <td>...</td>\n",
       "      <td>1</td>\n",
       "      <td>0</td>\n",
       "      <td>1</td>\n",
       "      <td>1</td>\n",
       "      <td>0</td>\n",
       "      <td>0</td>\n",
       "      <td>0</td>\n",
       "      <td>1</td>\n",
       "      <td>0</td>\n",
       "      <td>0</td>\n",
       "    </tr>\n",
       "    <tr>\n",
       "      <th>474</th>\n",
       "      <td>5532</td>\n",
       "      <td>4648.0</td>\n",
       "      <td>162.0</td>\n",
       "      <td>360.0</td>\n",
       "      <td>1.0</td>\n",
       "      <td>0</td>\n",
       "      <td>1</td>\n",
       "      <td>1</td>\n",
       "      <td>0</td>\n",
       "      <td>2</td>\n",
       "      <td>...</td>\n",
       "      <td>1</td>\n",
       "      <td>0</td>\n",
       "      <td>1</td>\n",
       "      <td>0</td>\n",
       "      <td>0</td>\n",
       "      <td>1</td>\n",
       "      <td>0</td>\n",
       "      <td>1</td>\n",
       "      <td>0</td>\n",
       "      <td>0</td>\n",
       "    </tr>\n",
       "    <tr>\n",
       "      <th>382</th>\n",
       "      <td>6000</td>\n",
       "      <td>0.0</td>\n",
       "      <td>156.0</td>\n",
       "      <td>360.0</td>\n",
       "      <td>1.0</td>\n",
       "      <td>1</td>\n",
       "      <td>0</td>\n",
       "      <td>1</td>\n",
       "      <td>0</td>\n",
       "      <td>0</td>\n",
       "      <td>...</td>\n",
       "      <td>1</td>\n",
       "      <td>0</td>\n",
       "      <td>1</td>\n",
       "      <td>1</td>\n",
       "      <td>0</td>\n",
       "      <td>0</td>\n",
       "      <td>0</td>\n",
       "      <td>0</td>\n",
       "      <td>0</td>\n",
       "      <td>1</td>\n",
       "    </tr>\n",
       "    <tr>\n",
       "      <th>283</th>\n",
       "      <td>1811</td>\n",
       "      <td>1666.0</td>\n",
       "      <td>54.0</td>\n",
       "      <td>360.0</td>\n",
       "      <td>1.0</td>\n",
       "      <td>1</td>\n",
       "      <td>0</td>\n",
       "      <td>1</td>\n",
       "      <td>0</td>\n",
       "      <td>0</td>\n",
       "      <td>...</td>\n",
       "      <td>1</td>\n",
       "      <td>0</td>\n",
       "      <td>1</td>\n",
       "      <td>1</td>\n",
       "      <td>0</td>\n",
       "      <td>0</td>\n",
       "      <td>0</td>\n",
       "      <td>0</td>\n",
       "      <td>0</td>\n",
       "      <td>1</td>\n",
       "    </tr>\n",
       "    <tr>\n",
       "      <th>...</th>\n",
       "      <td>...</td>\n",
       "      <td>...</td>\n",
       "      <td>...</td>\n",
       "      <td>...</td>\n",
       "      <td>...</td>\n",
       "      <td>...</td>\n",
       "      <td>...</td>\n",
       "      <td>...</td>\n",
       "      <td>...</td>\n",
       "      <td>...</td>\n",
       "      <td>...</td>\n",
       "      <td>...</td>\n",
       "      <td>...</td>\n",
       "      <td>...</td>\n",
       "      <td>...</td>\n",
       "      <td>...</td>\n",
       "      <td>...</td>\n",
       "      <td>...</td>\n",
       "      <td>...</td>\n",
       "      <td>...</td>\n",
       "      <td>...</td>\n",
       "    </tr>\n",
       "    <tr>\n",
       "      <th>277</th>\n",
       "      <td>3103</td>\n",
       "      <td>1300.0</td>\n",
       "      <td>80.0</td>\n",
       "      <td>360.0</td>\n",
       "      <td>1.0</td>\n",
       "      <td>0</td>\n",
       "      <td>1</td>\n",
       "      <td>0</td>\n",
       "      <td>1</td>\n",
       "      <td>0</td>\n",
       "      <td>...</td>\n",
       "      <td>1</td>\n",
       "      <td>0</td>\n",
       "      <td>1</td>\n",
       "      <td>1</td>\n",
       "      <td>0</td>\n",
       "      <td>0</td>\n",
       "      <td>0</td>\n",
       "      <td>0</td>\n",
       "      <td>0</td>\n",
       "      <td>1</td>\n",
       "    </tr>\n",
       "    <tr>\n",
       "      <th>9</th>\n",
       "      <td>12841</td>\n",
       "      <td>10968.0</td>\n",
       "      <td>349.0</td>\n",
       "      <td>360.0</td>\n",
       "      <td>1.0</td>\n",
       "      <td>0</td>\n",
       "      <td>1</td>\n",
       "      <td>0</td>\n",
       "      <td>1</td>\n",
       "      <td>1</td>\n",
       "      <td>...</td>\n",
       "      <td>1</td>\n",
       "      <td>0</td>\n",
       "      <td>1</td>\n",
       "      <td>0</td>\n",
       "      <td>1</td>\n",
       "      <td>0</td>\n",
       "      <td>0</td>\n",
       "      <td>0</td>\n",
       "      <td>1</td>\n",
       "      <td>0</td>\n",
       "    </tr>\n",
       "    <tr>\n",
       "      <th>359</th>\n",
       "      <td>5167</td>\n",
       "      <td>3167.0</td>\n",
       "      <td>200.0</td>\n",
       "      <td>360.0</td>\n",
       "      <td>1.0</td>\n",
       "      <td>0</td>\n",
       "      <td>1</td>\n",
       "      <td>0</td>\n",
       "      <td>1</td>\n",
       "      <td>3+</td>\n",
       "      <td>...</td>\n",
       "      <td>1</td>\n",
       "      <td>0</td>\n",
       "      <td>1</td>\n",
       "      <td>0</td>\n",
       "      <td>0</td>\n",
       "      <td>0</td>\n",
       "      <td>1</td>\n",
       "      <td>0</td>\n",
       "      <td>1</td>\n",
       "      <td>0</td>\n",
       "    </tr>\n",
       "    <tr>\n",
       "      <th>192</th>\n",
       "      <td>6033</td>\n",
       "      <td>0.0</td>\n",
       "      <td>160.0</td>\n",
       "      <td>360.0</td>\n",
       "      <td>1.0</td>\n",
       "      <td>0</td>\n",
       "      <td>1</td>\n",
       "      <td>0</td>\n",
       "      <td>1</td>\n",
       "      <td>0</td>\n",
       "      <td>...</td>\n",
       "      <td>0</td>\n",
       "      <td>0</td>\n",
       "      <td>1</td>\n",
       "      <td>1</td>\n",
       "      <td>0</td>\n",
       "      <td>0</td>\n",
       "      <td>0</td>\n",
       "      <td>0</td>\n",
       "      <td>0</td>\n",
       "      <td>1</td>\n",
       "    </tr>\n",
       "    <tr>\n",
       "      <th>559</th>\n",
       "      <td>4180</td>\n",
       "      <td>2306.0</td>\n",
       "      <td>182.0</td>\n",
       "      <td>360.0</td>\n",
       "      <td>1.0</td>\n",
       "      <td>1</td>\n",
       "      <td>0</td>\n",
       "      <td>0</td>\n",
       "      <td>1</td>\n",
       "      <td>0</td>\n",
       "      <td>...</td>\n",
       "      <td>1</td>\n",
       "      <td>0</td>\n",
       "      <td>1</td>\n",
       "      <td>1</td>\n",
       "      <td>0</td>\n",
       "      <td>0</td>\n",
       "      <td>0</td>\n",
       "      <td>0</td>\n",
       "      <td>1</td>\n",
       "      <td>0</td>\n",
       "    </tr>\n",
       "  </tbody>\n",
       "</table>\n",
       "<p>460 rows × 21 columns</p>\n",
       "</div>"
      ],
      "text/plain": [
       "     ApplicantIncome  CoapplicantIncome  LoanAmount  Loan_Amount_Term  \\\n",
       "46              5649                0.0        44.0             360.0   \n",
       "272             2833             1857.0       126.0             360.0   \n",
       "474             5532             4648.0       162.0             360.0   \n",
       "382             6000                0.0       156.0             360.0   \n",
       "283             1811             1666.0        54.0             360.0   \n",
       "..               ...                ...         ...               ...   \n",
       "277             3103             1300.0        80.0             360.0   \n",
       "9              12841            10968.0       349.0             360.0   \n",
       "359             5167             3167.0       200.0             360.0   \n",
       "192             6033                0.0       160.0             360.0   \n",
       "559             4180             2306.0       182.0             360.0   \n",
       "\n",
       "     Credit_History  Gender_0  Gender_1  Married_0  Married_1 Dependents  ...  \\\n",
       "46              1.0         0         1          0          1          1  ...   \n",
       "272             1.0         0         1          1          0          0  ...   \n",
       "474             1.0         0         1          1          0          2  ...   \n",
       "382             1.0         1         0          1          0          0  ...   \n",
       "283             1.0         1         0          1          0          0  ...   \n",
       "..              ...       ...       ...        ...        ...        ...  ...   \n",
       "277             1.0         0         1          0          1          0  ...   \n",
       "9               1.0         0         1          0          1          1  ...   \n",
       "359             1.0         0         1          0          1         3+  ...   \n",
       "192             1.0         0         1          0          1          0  ...   \n",
       "559             1.0         1         0          0          1          0  ...   \n",
       "\n",
       "     Education_1  Self_Employed_0  Self_Employed_1  0  1  2  3+  Rural  \\\n",
       "46             1                0                1  0  1  0   0      0   \n",
       "272            1                0                1  1  0  0   0      1   \n",
       "474            1                0                1  0  0  1   0      1   \n",
       "382            1                0                1  1  0  0   0      0   \n",
       "283            1                0                1  1  0  0   0      0   \n",
       "..           ...              ...              ... .. .. ..  ..    ...   \n",
       "277            1                0                1  1  0  0   0      0   \n",
       "9              1                0                1  0  1  0   0      0   \n",
       "359            1                0                1  0  0  0   1      0   \n",
       "192            0                0                1  1  0  0   0      0   \n",
       "559            1                0                1  1  0  0   0      0   \n",
       "\n",
       "     Semiurban  Urban  \n",
       "46           0      1  \n",
       "272          0      0  \n",
       "474          0      0  \n",
       "382          0      1  \n",
       "283          0      1  \n",
       "..         ...    ...  \n",
       "277          0      1  \n",
       "9            1      0  \n",
       "359          1      0  \n",
       "192          0      1  \n",
       "559          1      0  \n",
       "\n",
       "[460 rows x 21 columns]"
      ]
     },
     "execution_count": 61,
     "metadata": {},
     "output_type": "execute_result"
    }
   ],
   "source": [
    "X_train"
   ]
  },
  {
   "cell_type": "code",
   "execution_count": 62,
   "id": "ce9f4dce",
   "metadata": {},
   "outputs": [
    {
     "data": {
      "text/plain": [
       "Index(['ApplicantIncome', 'CoapplicantIncome', 'LoanAmount',\n",
       "       'Loan_Amount_Term', 'Credit_History', 'Gender_0', 'Gender_1',\n",
       "       'Married_0', 'Married_1', 'Dependents', 'Education_0', 'Education_1',\n",
       "       'Self_Employed_0', 'Self_Employed_1', '0', '1', '2', '3+', 'Rural',\n",
       "       'Semiurban', 'Urban'],\n",
       "      dtype='object')"
      ]
     },
     "execution_count": 62,
     "metadata": {},
     "output_type": "execute_result"
    }
   ],
   "source": [
    "X_train.columns"
   ]
  },
  {
   "cell_type": "code",
   "execution_count": 63,
   "id": "c74cac06",
   "metadata": {},
   "outputs": [],
   "source": [
    "X_train.drop(\"Dependents\", axis = 1, inplace = True)"
   ]
  },
  {
   "cell_type": "code",
   "execution_count": 64,
   "id": "da91ab67",
   "metadata": {},
   "outputs": [
    {
     "data": {
      "text/plain": [
       "Index(['ApplicantIncome', 'CoapplicantIncome', 'LoanAmount',\n",
       "       'Loan_Amount_Term', 'Credit_History', 'Gender_0', 'Gender_1',\n",
       "       'Married_0', 'Married_1', 'Education_0', 'Education_1',\n",
       "       'Self_Employed_0', 'Self_Employed_1', '0', '1', '2', '3+', 'Rural',\n",
       "       'Semiurban', 'Urban'],\n",
       "      dtype='object')"
      ]
     },
     "execution_count": 64,
     "metadata": {},
     "output_type": "execute_result"
    }
   ],
   "source": [
    "X_train.columns"
   ]
  },
  {
   "cell_type": "code",
   "execution_count": 65,
   "id": "048f8c9c",
   "metadata": {},
   "outputs": [
    {
     "data": {
      "text/plain": [
       "Index(['Gender_0', 'Gender_1', 'Married_0', 'Married_1', 'Dependents',\n",
       "       'Education_0', 'Education_1', 'Self_Employed_0', 'Self_Employed_1',\n",
       "       'ApplicantIncome', 'CoapplicantIncome', 'LoanAmount',\n",
       "       'Loan_Amount_Term', 'Credit_History', 'Property_Area'],\n",
       "      dtype='object')"
      ]
     },
     "execution_count": 65,
     "metadata": {},
     "output_type": "execute_result"
    }
   ],
   "source": [
    "X_test.columns"
   ]
  },
  {
   "cell_type": "code",
   "execution_count": 66,
   "id": "21b07341",
   "metadata": {},
   "outputs": [],
   "source": [
    "#Combining the numerical columns, encoded columns and the encoded non binary columns for test data\n",
    "X_test = pd.concat([X_test[numerical_cols], X_test[['Gender_0', 'Gender_1', 'Married_0', 'Married_1', 'Dependents',\n",
    "       'Education_0', 'Education_1', 'Self_Employed_0', 'Self_Employed_1']],\n",
    "        pd.get_dummies(X_test.Dependents),pd.get_dummies(X_test.Property_Area)], axis = 1)"
   ]
  },
  {
   "cell_type": "code",
   "execution_count": 67,
   "id": "ecb26ae8",
   "metadata": {},
   "outputs": [
    {
     "data": {
      "text/plain": [
       "Index(['ApplicantIncome', 'CoapplicantIncome', 'LoanAmount',\n",
       "       'Loan_Amount_Term', 'Credit_History', 'Gender_0', 'Gender_1',\n",
       "       'Married_0', 'Married_1', 'Dependents', 'Education_0', 'Education_1',\n",
       "       'Self_Employed_0', 'Self_Employed_1', '0', '1', '2', '3+', 'Rural',\n",
       "       'Semiurban', 'Urban'],\n",
       "      dtype='object')"
      ]
     },
     "execution_count": 67,
     "metadata": {},
     "output_type": "execute_result"
    }
   ],
   "source": [
    "X_test.columns"
   ]
  },
  {
   "cell_type": "code",
   "execution_count": 68,
   "id": "379b8d47",
   "metadata": {},
   "outputs": [],
   "source": [
    "#Drop the original Dependents column\n",
    "X_test.drop(\"Dependents\", axis = 1, inplace = True)"
   ]
  },
  {
   "cell_type": "code",
   "execution_count": 69,
   "id": "4e1b756c",
   "metadata": {},
   "outputs": [],
   "source": [
    "coln = X_test.columns"
   ]
  },
  {
   "cell_type": "code",
   "execution_count": 70,
   "id": "214551b5",
   "metadata": {},
   "outputs": [],
   "source": [
    "#Feature Scaling\n",
    "scaler = MinMaxScaler()\n",
    "X_train = scaler.fit_transform(X_train)\n",
    "X_test = scaler.fit_transform(X_test)"
   ]
  },
  {
   "cell_type": "code",
   "execution_count": 71,
   "id": "798884e1",
   "metadata": {},
   "outputs": [],
   "source": [
    "#Create dataframes for train and test data\n",
    "X_train = pd.DataFrame(X_train, columns = coln)\n",
    "X_test = pd.DataFrame(X_test, columns = coln)"
   ]
  },
  {
   "cell_type": "code",
   "execution_count": 72,
   "id": "68b8f92a",
   "metadata": {},
   "outputs": [
    {
     "data": {
      "text/html": [
       "<div>\n",
       "<style scoped>\n",
       "    .dataframe tbody tr th:only-of-type {\n",
       "        vertical-align: middle;\n",
       "    }\n",
       "\n",
       "    .dataframe tbody tr th {\n",
       "        vertical-align: top;\n",
       "    }\n",
       "\n",
       "    .dataframe thead th {\n",
       "        text-align: right;\n",
       "    }\n",
       "</style>\n",
       "<table border=\"1\" class=\"dataframe\">\n",
       "  <thead>\n",
       "    <tr style=\"text-align: right;\">\n",
       "      <th></th>\n",
       "      <th>ApplicantIncome</th>\n",
       "      <th>CoapplicantIncome</th>\n",
       "      <th>LoanAmount</th>\n",
       "      <th>Loan_Amount_Term</th>\n",
       "      <th>Credit_History</th>\n",
       "      <th>Gender_0</th>\n",
       "      <th>Gender_1</th>\n",
       "      <th>Married_0</th>\n",
       "      <th>Married_1</th>\n",
       "      <th>Education_0</th>\n",
       "      <th>Education_1</th>\n",
       "      <th>Self_Employed_0</th>\n",
       "      <th>Self_Employed_1</th>\n",
       "      <th>0</th>\n",
       "      <th>1</th>\n",
       "      <th>2</th>\n",
       "      <th>3+</th>\n",
       "      <th>Rural</th>\n",
       "      <th>Semiurban</th>\n",
       "      <th>Urban</th>\n",
       "    </tr>\n",
       "  </thead>\n",
       "  <tbody>\n",
       "    <tr>\n",
       "      <th>209</th>\n",
       "      <td>0.097984</td>\n",
       "      <td>0.005760</td>\n",
       "      <td>0.337778</td>\n",
       "      <td>0.72973</td>\n",
       "      <td>1.0</td>\n",
       "      <td>0.0</td>\n",
       "      <td>1.0</td>\n",
       "      <td>0.0</td>\n",
       "      <td>1.0</td>\n",
       "      <td>0.0</td>\n",
       "      <td>1.0</td>\n",
       "      <td>0.0</td>\n",
       "      <td>1.0</td>\n",
       "      <td>0.0</td>\n",
       "      <td>1.0</td>\n",
       "      <td>0.0</td>\n",
       "      <td>0.0</td>\n",
       "      <td>0.0</td>\n",
       "      <td>0.0</td>\n",
       "      <td>1.0</td>\n",
       "    </tr>\n",
       "    <tr>\n",
       "      <th>418</th>\n",
       "      <td>0.027001</td>\n",
       "      <td>0.058008</td>\n",
       "      <td>0.164444</td>\n",
       "      <td>0.72973</td>\n",
       "      <td>1.0</td>\n",
       "      <td>0.0</td>\n",
       "      <td>1.0</td>\n",
       "      <td>0.0</td>\n",
       "      <td>1.0</td>\n",
       "      <td>0.0</td>\n",
       "      <td>1.0</td>\n",
       "      <td>0.0</td>\n",
       "      <td>1.0</td>\n",
       "      <td>1.0</td>\n",
       "      <td>0.0</td>\n",
       "      <td>0.0</td>\n",
       "      <td>0.0</td>\n",
       "      <td>0.0</td>\n",
       "      <td>0.0</td>\n",
       "      <td>1.0</td>\n",
       "    </tr>\n",
       "    <tr>\n",
       "      <th>141</th>\n",
       "      <td>0.065145</td>\n",
       "      <td>0.100703</td>\n",
       "      <td>0.358519</td>\n",
       "      <td>0.72973</td>\n",
       "      <td>1.0</td>\n",
       "      <td>0.0</td>\n",
       "      <td>1.0</td>\n",
       "      <td>0.0</td>\n",
       "      <td>1.0</td>\n",
       "      <td>0.0</td>\n",
       "      <td>1.0</td>\n",
       "      <td>1.0</td>\n",
       "      <td>0.0</td>\n",
       "      <td>0.0</td>\n",
       "      <td>0.0</td>\n",
       "      <td>1.0</td>\n",
       "      <td>0.0</td>\n",
       "      <td>0.0</td>\n",
       "      <td>0.0</td>\n",
       "      <td>1.0</td>\n",
       "    </tr>\n",
       "  </tbody>\n",
       "</table>\n",
       "</div>"
      ],
      "text/plain": [
       "     ApplicantIncome  CoapplicantIncome  LoanAmount  Loan_Amount_Term  \\\n",
       "209         0.097984           0.005760    0.337778           0.72973   \n",
       "418         0.027001           0.058008    0.164444           0.72973   \n",
       "141         0.065145           0.100703    0.358519           0.72973   \n",
       "\n",
       "     Credit_History  Gender_0  Gender_1  Married_0  Married_1  Education_0  \\\n",
       "209             1.0       0.0       1.0        0.0        1.0          0.0   \n",
       "418             1.0       0.0       1.0        0.0        1.0          0.0   \n",
       "141             1.0       0.0       1.0        0.0        1.0          0.0   \n",
       "\n",
       "     Education_1  Self_Employed_0  Self_Employed_1    0    1    2   3+  Rural  \\\n",
       "209          1.0              0.0              1.0  0.0  1.0  0.0  0.0    0.0   \n",
       "418          1.0              0.0              1.0  1.0  0.0  0.0  0.0    0.0   \n",
       "141          1.0              1.0              0.0  0.0  0.0  1.0  0.0    0.0   \n",
       "\n",
       "     Semiurban  Urban  \n",
       "209        0.0    1.0  \n",
       "418        0.0    1.0  \n",
       "141        0.0    1.0  "
      ]
     },
     "execution_count": 72,
     "metadata": {},
     "output_type": "execute_result"
    }
   ],
   "source": [
    "X_train.sample(3)"
   ]
  },
  {
   "cell_type": "code",
   "execution_count": 73,
   "id": "fd8be2ab",
   "metadata": {},
   "outputs": [
    {
     "data": {
      "text/html": [
       "<div>\n",
       "<style scoped>\n",
       "    .dataframe tbody tr th:only-of-type {\n",
       "        vertical-align: middle;\n",
       "    }\n",
       "\n",
       "    .dataframe tbody tr th {\n",
       "        vertical-align: top;\n",
       "    }\n",
       "\n",
       "    .dataframe thead th {\n",
       "        text-align: right;\n",
       "    }\n",
       "</style>\n",
       "<table border=\"1\" class=\"dataframe\">\n",
       "  <thead>\n",
       "    <tr style=\"text-align: right;\">\n",
       "      <th></th>\n",
       "      <th>ApplicantIncome</th>\n",
       "      <th>CoapplicantIncome</th>\n",
       "      <th>LoanAmount</th>\n",
       "      <th>Loan_Amount_Term</th>\n",
       "      <th>Credit_History</th>\n",
       "      <th>Gender_0</th>\n",
       "      <th>Gender_1</th>\n",
       "      <th>Married_0</th>\n",
       "      <th>Married_1</th>\n",
       "      <th>Education_0</th>\n",
       "      <th>Education_1</th>\n",
       "      <th>Self_Employed_0</th>\n",
       "      <th>Self_Employed_1</th>\n",
       "      <th>0</th>\n",
       "      <th>1</th>\n",
       "      <th>2</th>\n",
       "      <th>3+</th>\n",
       "      <th>Rural</th>\n",
       "      <th>Semiurban</th>\n",
       "      <th>Urban</th>\n",
       "    </tr>\n",
       "  </thead>\n",
       "  <tbody>\n",
       "    <tr>\n",
       "      <th>43</th>\n",
       "      <td>0.105438</td>\n",
       "      <td>0.036321</td>\n",
       "      <td>0.303462</td>\n",
       "      <td>0.74359</td>\n",
       "      <td>1.0</td>\n",
       "      <td>0.0</td>\n",
       "      <td>1.0</td>\n",
       "      <td>1.0</td>\n",
       "      <td>0.0</td>\n",
       "      <td>1.0</td>\n",
       "      <td>0.0</td>\n",
       "      <td>1.0</td>\n",
       "      <td>0.0</td>\n",
       "      <td>0.0</td>\n",
       "      <td>1.0</td>\n",
       "      <td>0.0</td>\n",
       "      <td>0.0</td>\n",
       "      <td>0.0</td>\n",
       "      <td>0.0</td>\n",
       "      <td>1.0</td>\n",
       "    </tr>\n",
       "    <tr>\n",
       "      <th>116</th>\n",
       "      <td>0.054540</td>\n",
       "      <td>0.048024</td>\n",
       "      <td>0.152749</td>\n",
       "      <td>0.74359</td>\n",
       "      <td>1.0</td>\n",
       "      <td>1.0</td>\n",
       "      <td>0.0</td>\n",
       "      <td>0.0</td>\n",
       "      <td>1.0</td>\n",
       "      <td>0.0</td>\n",
       "      <td>1.0</td>\n",
       "      <td>1.0</td>\n",
       "      <td>0.0</td>\n",
       "      <td>1.0</td>\n",
       "      <td>0.0</td>\n",
       "      <td>0.0</td>\n",
       "      <td>0.0</td>\n",
       "      <td>0.0</td>\n",
       "      <td>0.0</td>\n",
       "      <td>1.0</td>\n",
       "    </tr>\n",
       "    <tr>\n",
       "      <th>72</th>\n",
       "      <td>0.090144</td>\n",
       "      <td>0.041700</td>\n",
       "      <td>0.301426</td>\n",
       "      <td>0.74359</td>\n",
       "      <td>1.0</td>\n",
       "      <td>0.0</td>\n",
       "      <td>1.0</td>\n",
       "      <td>1.0</td>\n",
       "      <td>0.0</td>\n",
       "      <td>1.0</td>\n",
       "      <td>0.0</td>\n",
       "      <td>1.0</td>\n",
       "      <td>0.0</td>\n",
       "      <td>0.0</td>\n",
       "      <td>0.0</td>\n",
       "      <td>1.0</td>\n",
       "      <td>0.0</td>\n",
       "      <td>1.0</td>\n",
       "      <td>0.0</td>\n",
       "      <td>0.0</td>\n",
       "    </tr>\n",
       "  </tbody>\n",
       "</table>\n",
       "</div>"
      ],
      "text/plain": [
       "     ApplicantIncome  CoapplicantIncome  LoanAmount  Loan_Amount_Term  \\\n",
       "43          0.105438           0.036321    0.303462           0.74359   \n",
       "116         0.054540           0.048024    0.152749           0.74359   \n",
       "72          0.090144           0.041700    0.301426           0.74359   \n",
       "\n",
       "     Credit_History  Gender_0  Gender_1  Married_0  Married_1  Education_0  \\\n",
       "43              1.0       0.0       1.0        1.0        0.0          1.0   \n",
       "116             1.0       1.0       0.0        0.0        1.0          0.0   \n",
       "72              1.0       0.0       1.0        1.0        0.0          1.0   \n",
       "\n",
       "     Education_1  Self_Employed_0  Self_Employed_1    0    1    2   3+  Rural  \\\n",
       "43           0.0              1.0              0.0  0.0  1.0  0.0  0.0    0.0   \n",
       "116          1.0              1.0              0.0  1.0  0.0  0.0  0.0    0.0   \n",
       "72           0.0              1.0              0.0  0.0  0.0  1.0  0.0    1.0   \n",
       "\n",
       "     Semiurban  Urban  \n",
       "43         0.0    1.0  \n",
       "116        0.0    1.0  \n",
       "72         0.0    0.0  "
      ]
     },
     "execution_count": 73,
     "metadata": {},
     "output_type": "execute_result"
    }
   ],
   "source": [
    "X_test.sample(3)"
   ]
  },
  {
   "cell_type": "markdown",
   "id": "8c9b3d6f",
   "metadata": {},
   "source": [
    "### Predictive Models"
   ]
  },
  {
   "cell_type": "markdown",
   "id": "594722d6",
   "metadata": {},
   "source": [
    " #### 1. Decision Trees"
   ]
  },
  {
   "cell_type": "code",
   "execution_count": 74,
   "id": "171a560f",
   "metadata": {},
   "outputs": [
    {
     "data": {
      "text/plain": [
       "DecisionTreeClassifier(max_depth=2)"
      ]
     },
     "execution_count": 74,
     "metadata": {},
     "output_type": "execute_result"
    }
   ],
   "source": [
    "dt = DecisionTreeClassifier(max_depth = 2)\n",
    "dt.fit(X_train,y_train)"
   ]
  },
  {
   "cell_type": "code",
   "execution_count": 75,
   "id": "8177d4b2",
   "metadata": {},
   "outputs": [
    {
     "data": {
      "text/plain": [
       "array(['Y', 'Y', 'Y', 'Y', 'Y', 'N', 'Y', 'Y', 'N', 'Y', 'Y', 'Y', 'Y',\n",
       "       'Y', 'Y', 'Y', 'Y', 'Y', 'Y', 'N', 'N', 'Y', 'Y', 'Y', 'Y', 'Y',\n",
       "       'Y', 'Y', 'N', 'N', 'Y', 'Y', 'Y', 'Y', 'Y', 'N', 'Y', 'Y', 'Y',\n",
       "       'Y', 'Y', 'N', 'N', 'Y', 'Y', 'Y', 'Y', 'Y', 'Y', 'Y', 'Y', 'Y',\n",
       "       'Y', 'Y', 'N', 'Y', 'Y', 'Y', 'Y', 'Y', 'N', 'Y', 'Y', 'N', 'Y',\n",
       "       'Y', 'Y', 'Y', 'Y', 'Y', 'Y', 'Y', 'Y', 'Y', 'Y', 'Y', 'Y', 'Y',\n",
       "       'Y', 'N', 'N', 'Y', 'Y', 'Y', 'Y', 'Y', 'Y', 'Y', 'Y', 'Y', 'Y',\n",
       "       'Y', 'Y', 'N', 'Y', 'N', 'Y', 'Y', 'Y', 'Y', 'Y', 'Y', 'Y', 'Y',\n",
       "       'Y', 'Y', 'Y', 'Y', 'Y', 'Y', 'Y', 'Y', 'Y', 'Y', 'N', 'N', 'Y',\n",
       "       'Y', 'Y', 'Y', 'Y', 'N', 'Y', 'Y', 'Y', 'N', 'Y', 'Y', 'Y', 'Y',\n",
       "       'Y', 'Y', 'Y', 'Y', 'Y', 'Y', 'Y', 'Y', 'Y', 'Y', 'Y', 'Y', 'N',\n",
       "       'Y', 'Y', 'Y', 'Y', 'Y', 'N', 'N', 'Y', 'Y', 'Y', 'N'],\n",
       "      dtype=object)"
      ]
     },
     "execution_count": 75,
     "metadata": {},
     "output_type": "execute_result"
    }
   ],
   "source": [
    "#Predictions on test data\n",
    "y_pred = dt.predict(X_test)\n",
    "y_pred"
   ]
  },
  {
   "cell_type": "code",
   "execution_count": 76,
   "id": "1c7a48f5",
   "metadata": {},
   "outputs": [
    {
     "name": "stdout",
     "output_type": "stream",
     "text": [
      "The accuracy of the model:  0.8116883116883117\n"
     ]
    }
   ],
   "source": [
    "# The accuracy of the model\n",
    "acc = accuracy_score(y_test,y_pred)\n",
    "print(\"The accuracy of the model: \", acc)"
   ]
  },
  {
   "cell_type": "code",
   "execution_count": 77,
   "id": "51389789",
   "metadata": {},
   "outputs": [
    {
     "name": "stdout",
     "output_type": "stream",
     "text": [
      "Train set score:  0.808695652173913\n",
      "Test set score:  0.8116883116883117\n"
     ]
    }
   ],
   "source": [
    "#model accuracy metrics for DecisionTreeClassifier\n",
    "print(\"Train set score: \", dt.score(X_train,y_train))\n",
    "print(\"Test set score: \", dt.score(X_test,y_test))"
   ]
  },
  {
   "cell_type": "markdown",
   "id": "d268412f",
   "metadata": {},
   "source": [
    "From the initial results the model was overfitting thus we fix this through tuning the hyperparameters to improve its performance."
   ]
  },
  {
   "cell_type": "code",
   "execution_count": 78,
   "id": "87a7aee9",
   "metadata": {},
   "outputs": [
    {
     "name": "stdout",
     "output_type": "stream",
     "text": [
      "Y    111\n",
      "N     43\n",
      "Name: Loan_Status, dtype: int64 \n",
      "\n",
      "The accuracy of the model predicting the most frequent value:  0.7207792207792207\n"
     ]
    }
   ],
   "source": [
    "# Check null accuracy - accuracy acheived if the model keeps on predicting most frequent value\n",
    "print(y_test.value_counts(), \"\\n\")\n",
    "null_accuracy = 111 / len(y_test)\n",
    "print(\"The accuracy of the model predicting the most frequent value: \",null_accuracy)"
   ]
  },
  {
   "cell_type": "markdown",
   "id": "e3822e26",
   "metadata": {},
   "source": [
    "The null accuracy is less than the accuracy of the model, thus the model is not just predicting but it has learnt"
   ]
  },
  {
   "cell_type": "code",
   "execution_count": 79,
   "id": "9e97a61e",
   "metadata": {},
   "outputs": [
    {
     "data": {
      "text/plain": [
       "array([0.79057592, 0.79057592, 0.79057592, 0.79057592, 0.79057592,\n",
       "       0.05970149, 0.79057592, 0.79057592, 0.05970149, 0.79057592,\n",
       "       0.79057592, 0.79057592, 0.79057592, 0.79057592, 0.79057592,\n",
       "       0.79057592, 0.79057592, 0.79057592, 0.79057592, 0.05970149,\n",
       "       0.05970149, 0.79057592, 0.79057592, 0.79057592, 0.79057592,\n",
       "       0.79057592, 0.79057592, 0.79057592, 0.05970149, 0.05970149,\n",
       "       0.79057592, 0.79057592, 0.79057592, 0.79057592, 0.79057592,\n",
       "       0.05970149, 0.79057592, 0.79057592, 0.79057592, 0.79057592,\n",
       "       0.79057592, 0.05970149, 0.4       , 0.79057592, 0.79057592,\n",
       "       0.79057592, 0.79057592, 0.79057592, 0.79057592, 0.79057592,\n",
       "       0.79057592, 0.79057592, 0.79057592, 0.79057592, 0.4       ,\n",
       "       0.79057592, 0.79057592, 0.79057592, 0.79057592, 0.79057592,\n",
       "       0.05970149, 0.79057592, 0.79057592, 0.05970149, 0.79057592,\n",
       "       0.79057592, 0.79057592, 0.79057592, 0.79057592, 0.79057592,\n",
       "       0.79057592, 0.79057592, 0.79057592, 0.79057592, 0.79057592,\n",
       "       0.79057592, 0.79057592, 0.79057592, 0.79057592, 0.05970149,\n",
       "       0.4       , 0.79057592, 0.79057592, 0.79057592, 0.79057592,\n",
       "       0.79057592, 0.79057592, 0.79057592, 0.79057592, 0.79057592,\n",
       "       0.79057592, 0.79057592, 0.79057592, 0.05970149, 0.79057592,\n",
       "       0.05970149, 0.79057592, 0.79057592, 0.79057592, 0.79057592,\n",
       "       0.79057592, 0.79057592, 0.79057592, 0.79057592, 0.79057592,\n",
       "       0.79057592, 0.79057592, 0.79057592, 0.79057592, 0.79057592,\n",
       "       0.79057592, 0.79057592, 0.79057592, 0.79057592, 0.05970149,\n",
       "       0.05970149, 0.79057592, 0.79057592, 0.79057592, 0.79057592,\n",
       "       0.79057592, 0.05970149, 0.79057592, 0.79057592, 0.79057592,\n",
       "       0.05970149, 0.79057592, 0.79057592, 0.79057592, 0.79057592,\n",
       "       0.79057592, 0.79057592, 0.79057592, 0.79057592, 0.79057592,\n",
       "       0.79057592, 0.79057592, 0.79057592, 0.79057592, 0.79057592,\n",
       "       0.79057592, 0.79057592, 0.05970149, 0.79057592, 0.79057592,\n",
       "       0.79057592, 0.79057592, 0.79057592, 0.05970149, 0.05970149,\n",
       "       0.79057592, 0.79057592, 0.79057592, 0.05970149])"
      ]
     },
     "execution_count": 79,
     "metadata": {},
     "output_type": "execute_result"
    }
   ],
   "source": [
    "#Probability of being approved for loan\n",
    "y_pred_Yes = dt.predict_proba(X_test)[:,1]\n",
    "y_pred_Yes"
   ]
  },
  {
   "cell_type": "markdown",
   "id": "ce06a3c2",
   "metadata": {},
   "source": [
    "#### Evaluating the results"
   ]
  },
  {
   "cell_type": "code",
   "execution_count": 80,
   "id": "dd5a318a",
   "metadata": {},
   "outputs": [
    {
     "name": "stdout",
     "output_type": "stream",
     "text": [
      "Classification report: \n",
      "\n",
      "Accuracy:  0.8116883116883117 \n",
      "\n",
      "              precision    recall  f1-score   support\n",
      "\n",
      "           N       0.44      0.79      0.57        24\n",
      "           Y       0.95      0.82      0.88       130\n",
      "\n",
      "    accuracy                           0.81       154\n",
      "   macro avg       0.70      0.80      0.72       154\n",
      "weighted avg       0.87      0.81      0.83       154\n",
      "\n",
      "Confusion matrix:\n",
      "[[ 19  24]\n",
      " [  5 106]]\n"
     ]
    }
   ],
   "source": [
    "report = classification_report(y_pred, y_test)\n",
    "cm_dt = confusion_matrix(y_test, y_pred)\n",
    "\n",
    "print(\"Classification report: \\n\")\n",
    "print(\"Accuracy: \", acc,\"\\n\")\n",
    "print(report)\n",
    "print(\"Confusion matrix:\")\n",
    "print(cm_dt)"
   ]
  },
  {
   "cell_type": "markdown",
   "id": "b353f4ac",
   "metadata": {},
   "source": [
    "- Precision -Out of all the clients that the model predicted would be approved for loan, 97% were actually approved.\n",
    "- Recall - Out of all the clients that were actually approved for the loan, the model predicts this outcome correctly for 82% of the clients.\n",
    "- f1-score - The value is close to 1, it tells us that the model does a good job of predicting the clients will get a loan."
   ]
  },
  {
   "cell_type": "code",
   "execution_count": 81,
   "id": "72446d1e",
   "metadata": {},
   "outputs": [],
   "source": [
    "# Probabilities\n",
    "y_pred_prob_dt = dt.predict_proba(X_test)"
   ]
  },
  {
   "cell_type": "code",
   "execution_count": 82,
   "id": "32057a9a",
   "metadata": {},
   "outputs": [
    {
     "data": {
      "text/html": [
       "<div>\n",
       "<style scoped>\n",
       "    .dataframe tbody tr th:only-of-type {\n",
       "        vertical-align: middle;\n",
       "    }\n",
       "\n",
       "    .dataframe tbody tr th {\n",
       "        vertical-align: top;\n",
       "    }\n",
       "\n",
       "    .dataframe thead th {\n",
       "        text-align: right;\n",
       "    }\n",
       "</style>\n",
       "<table border=\"1\" class=\"dataframe\">\n",
       "  <thead>\n",
       "    <tr style=\"text-align: right;\">\n",
       "      <th></th>\n",
       "      <th>Probability of not getting a home loan (0)</th>\n",
       "      <th>Probability of not getting home loan (1)</th>\n",
       "    </tr>\n",
       "  </thead>\n",
       "  <tbody>\n",
       "    <tr>\n",
       "      <th>0</th>\n",
       "      <td>0.209424</td>\n",
       "      <td>0.790576</td>\n",
       "    </tr>\n",
       "    <tr>\n",
       "      <th>1</th>\n",
       "      <td>0.209424</td>\n",
       "      <td>0.790576</td>\n",
       "    </tr>\n",
       "    <tr>\n",
       "      <th>2</th>\n",
       "      <td>0.209424</td>\n",
       "      <td>0.790576</td>\n",
       "    </tr>\n",
       "    <tr>\n",
       "      <th>3</th>\n",
       "      <td>0.209424</td>\n",
       "      <td>0.790576</td>\n",
       "    </tr>\n",
       "    <tr>\n",
       "      <th>4</th>\n",
       "      <td>0.209424</td>\n",
       "      <td>0.790576</td>\n",
       "    </tr>\n",
       "    <tr>\n",
       "      <th>...</th>\n",
       "      <td>...</td>\n",
       "      <td>...</td>\n",
       "    </tr>\n",
       "    <tr>\n",
       "      <th>149</th>\n",
       "      <td>0.940299</td>\n",
       "      <td>0.059701</td>\n",
       "    </tr>\n",
       "    <tr>\n",
       "      <th>150</th>\n",
       "      <td>0.209424</td>\n",
       "      <td>0.790576</td>\n",
       "    </tr>\n",
       "    <tr>\n",
       "      <th>151</th>\n",
       "      <td>0.209424</td>\n",
       "      <td>0.790576</td>\n",
       "    </tr>\n",
       "    <tr>\n",
       "      <th>152</th>\n",
       "      <td>0.209424</td>\n",
       "      <td>0.790576</td>\n",
       "    </tr>\n",
       "    <tr>\n",
       "      <th>153</th>\n",
       "      <td>0.940299</td>\n",
       "      <td>0.059701</td>\n",
       "    </tr>\n",
       "  </tbody>\n",
       "</table>\n",
       "<p>154 rows × 2 columns</p>\n",
       "</div>"
      ],
      "text/plain": [
       "     Probability of not getting a home loan (0)  \\\n",
       "0                                      0.209424   \n",
       "1                                      0.209424   \n",
       "2                                      0.209424   \n",
       "3                                      0.209424   \n",
       "4                                      0.209424   \n",
       "..                                          ...   \n",
       "149                                    0.940299   \n",
       "150                                    0.209424   \n",
       "151                                    0.209424   \n",
       "152                                    0.209424   \n",
       "153                                    0.940299   \n",
       "\n",
       "     Probability of not getting home loan (1)  \n",
       "0                                    0.790576  \n",
       "1                                    0.790576  \n",
       "2                                    0.790576  \n",
       "3                                    0.790576  \n",
       "4                                    0.790576  \n",
       "..                                        ...  \n",
       "149                                  0.059701  \n",
       "150                                  0.790576  \n",
       "151                                  0.790576  \n",
       "152                                  0.790576  \n",
       "153                                  0.059701  \n",
       "\n",
       "[154 rows x 2 columns]"
      ]
     },
     "execution_count": 82,
     "metadata": {},
     "output_type": "execute_result"
    }
   ],
   "source": [
    "y_pred_prob_dt = pd.DataFrame(data=y_pred_prob_dt, columns=['Probability of not getting a home loan (0)',\n",
    "                                                         'Probability of not getting home loan (1)'])\n",
    "\n",
    "y_pred_prob_dt"
   ]
  },
  {
   "cell_type": "code",
   "execution_count": 83,
   "id": "b86fc79f",
   "metadata": {},
   "outputs": [],
   "source": [
    "#Adjusting the threshold to visualize the performance of the model\n",
    "fpr_dt, tpr_dt, thresholds_dt = roc_curve(y_test, y_pred_Yes, pos_label='Y');"
   ]
  },
  {
   "cell_type": "code",
   "execution_count": 84,
   "id": "f7706fb3",
   "metadata": {},
   "outputs": [
    {
     "data": {
      "image/png": "[encoded data removed]",
      "text/plain": [
       "<Figure size 720x288 with 1 Axes>"
      ]
     },
     "metadata": {},
     "output_type": "display_data"
    }
   ],
   "source": [
    "# A visual for the Performance of the classification model\n",
    "plt.figure(figsize = (10,4))\n",
    "plt.plot(fpr_dt, tpr_dt, linewidth=2)\n",
    "plt.plot([0,1], [0,1], '--')\n",
    "plt.title('ROC curve for getting home loan classifier')\n",
    "plt.xlabel('False positive rate')\n",
    "plt.ylabel('True positve rate')\n",
    "plt.show()"
   ]
  },
  {
   "cell_type": "code",
   "execution_count": 85,
   "id": "52fe6fbc",
   "metadata": {},
   "outputs": [
    {
     "name": "stdout",
     "output_type": "stream",
     "text": [
      "0.7043787974020532\n"
     ]
    }
   ],
   "source": [
    "# Area Under the curve\n",
    "ROC_AUC = roc_auc_score(y_test, y_pred_Yes)\n",
    "\n",
    "print(ROC_AUC)"
   ]
  },
  {
   "cell_type": "markdown",
   "id": "5c83a771",
   "metadata": {},
   "source": [
    "The AUC is acceptable with the model having a 70. 4% being able to distinguish between the approval or disapproval of the homeloan."
   ]
  },
  {
   "cell_type": "markdown",
   "id": "acebede4",
   "metadata": {},
   "source": [
    "### 2. Logistic Regression"
   ]
  },
  {
   "cell_type": "code",
   "execution_count": 86,
   "id": "6f1b134a",
   "metadata": {},
   "outputs": [],
   "source": [
    "log = LogisticRegression().fit(X_train, y_train)"
   ]
  },
  {
   "cell_type": "code",
   "execution_count": 87,
   "id": "0ef3dfa9",
   "metadata": {},
   "outputs": [],
   "source": [
    "y_pred_log = log.predict(X_test)"
   ]
  },
  {
   "cell_type": "code",
   "execution_count": 88,
   "id": "c4814aa4",
   "metadata": {},
   "outputs": [
    {
     "data": {
      "text/plain": [
       "array([0.86617315, 0.86012208, 0.68412883, 0.73217723, 0.84862988,\n",
       "       0.04846453, 0.75265403, 0.83037383, 0.10277091, 0.80873867,\n",
       "       0.86244532, 0.7932512 , 0.84262202, 0.82343297, 0.83563878,\n",
       "       0.70893381, 0.73587102, 0.78415466, 0.79305686, 0.05863627,\n",
       "       0.09209076, 0.80997025, 0.73039288, 0.71166446, 0.68998173,\n",
       "       0.76128742, 0.83444026, 0.79301933, 0.18596889, 0.1953791 ,\n",
       "       0.81235098, 0.66586135, 0.6944772 , 0.67301381, 0.80933494,\n",
       "       0.08961267, 0.80162156, 0.63394408, 0.82426419, 0.78275228,\n",
       "       0.79532776, 0.09621256, 0.80076952, 0.57805192, 0.86456295,\n",
       "       0.71928863, 0.79023879, 0.85999365, 0.63292814, 0.72966295,\n",
       "       0.80062326, 0.72944106, 0.57557054, 0.73603468, 0.67349802,\n",
       "       0.78645835, 0.7384176 , 0.64912363, 0.76308139, 0.74583634,\n",
       "       0.15553752, 0.85209837, 0.62929839, 0.13214572, 0.85034045,\n",
       "       0.62730912, 0.80064112, 0.84854402, 0.65971735, 0.78530385,\n",
       "       0.72840013, 0.81815918, 0.61540341, 0.60781842, 0.81358349,\n",
       "       0.74219732, 0.61981643, 0.75517267, 0.78501   , 0.19266599,\n",
       "       0.71601046, 0.63547826, 0.73535806, 0.77039163, 0.7907936 ,\n",
       "       0.75259835, 0.6803251 , 0.72452269, 0.76434472, 0.78223628,\n",
       "       0.73899378, 0.79697814, 0.63533732, 0.17113839, 0.7524156 ,\n",
       "       0.08435487, 0.86284857, 0.84715008, 0.68599418, 0.69148658,\n",
       "       0.66261032, 0.73484973, 0.70807545, 0.78470718, 0.79067477,\n",
       "       0.79060671, 0.63884793, 0.7942249 , 0.63918183, 0.67017708,\n",
       "       0.73400033, 0.74130754, 0.7846747 , 0.78252468, 0.08666719,\n",
       "       0.08141895, 0.78735713, 0.84960867, 0.69549715, 0.72427975,\n",
       "       0.7852257 , 0.08963162, 0.69075893, 0.81004557, 0.82696094,\n",
       "       0.07492712, 0.79996609, 0.84273577, 0.66938613, 0.78495441,\n",
       "       0.80213486, 0.71394665, 0.8564934 , 0.80547223, 0.62617321,\n",
       "       0.79300814, 0.5994725 , 0.83146167, 0.86447129, 0.79775629,\n",
       "       0.58298142, 0.789992  , 0.061923  , 0.66512373, 0.875528  ,\n",
       "       0.69459066, 0.81031873, 0.85311815, 0.12306163, 0.1852581 ,\n",
       "       0.80084649, 0.74684644, 0.79467696, 0.12352205])"
      ]
     },
     "execution_count": 88,
     "metadata": {},
     "output_type": "execute_result"
    }
   ],
   "source": [
    "#probability of getting a home loan\n",
    "y_pred1 = log.predict_proba(X_test)[:,1]\n",
    "y_pred1"
   ]
  },
  {
   "cell_type": "code",
   "execution_count": 89,
   "id": "863ad398",
   "metadata": {},
   "outputs": [
    {
     "data": {
      "text/plain": [
       "array([0.13382685, 0.13987792, 0.31587117, 0.26782277, 0.15137012,\n",
       "       0.95153547, 0.24734597, 0.16962617, 0.89722909, 0.19126133,\n",
       "       0.13755468, 0.2067488 , 0.15737798, 0.17656703, 0.16436122,\n",
       "       0.29106619, 0.26412898, 0.21584534, 0.20694314, 0.94136373,\n",
       "       0.90790924, 0.19002975, 0.26960712, 0.28833554, 0.31001827,\n",
       "       0.23871258, 0.16555974, 0.20698067, 0.81403111, 0.8046209 ,\n",
       "       0.18764902, 0.33413865, 0.3055228 , 0.32698619, 0.19066506,\n",
       "       0.91038733, 0.19837844, 0.36605592, 0.17573581, 0.21724772,\n",
       "       0.20467224, 0.90378744, 0.19923048, 0.42194808, 0.13543705,\n",
       "       0.28071137, 0.20976121, 0.14000635, 0.36707186, 0.27033705,\n",
       "       0.19937674, 0.27055894, 0.42442946, 0.26396532, 0.32650198,\n",
       "       0.21354165, 0.2615824 , 0.35087637, 0.23691861, 0.25416366,\n",
       "       0.84446248, 0.14790163, 0.37070161, 0.86785428, 0.14965955,\n",
       "       0.37269088, 0.19935888, 0.15145598, 0.34028265, 0.21469615,\n",
       "       0.27159987, 0.18184082, 0.38459659, 0.39218158, 0.18641651,\n",
       "       0.25780268, 0.38018357, 0.24482733, 0.21499   , 0.80733401,\n",
       "       0.28398954, 0.36452174, 0.26464194, 0.22960837, 0.2092064 ,\n",
       "       0.24740165, 0.3196749 , 0.27547731, 0.23565528, 0.21776372,\n",
       "       0.26100622, 0.20302186, 0.36466268, 0.82886161, 0.2475844 ,\n",
       "       0.91564513, 0.13715143, 0.15284992, 0.31400582, 0.30851342,\n",
       "       0.33738968, 0.26515027, 0.29192455, 0.21529282, 0.20932523,\n",
       "       0.20939329, 0.36115207, 0.2057751 , 0.36081817, 0.32982292,\n",
       "       0.26599967, 0.25869246, 0.2153253 , 0.21747532, 0.91333281,\n",
       "       0.91858105, 0.21264287, 0.15039133, 0.30450285, 0.27572025,\n",
       "       0.2147743 , 0.91036838, 0.30924107, 0.18995443, 0.17303906,\n",
       "       0.92507288, 0.20003391, 0.15726423, 0.33061387, 0.21504559,\n",
       "       0.19786514, 0.28605335, 0.1435066 , 0.19452777, 0.37382679,\n",
       "       0.20699186, 0.4005275 , 0.16853833, 0.13552871, 0.20224371,\n",
       "       0.41701858, 0.210008  , 0.938077  , 0.33487627, 0.124472  ,\n",
       "       0.30540934, 0.18968127, 0.14688185, 0.87693837, 0.8147419 ,\n",
       "       0.19915351, 0.25315356, 0.20532304, 0.87647795])"
      ]
     },
     "execution_count": 89,
     "metadata": {},
     "output_type": "execute_result"
    }
   ],
   "source": [
    "#Probability of not getting a home loan\n",
    "y_pred0 = log.predict_proba(X_test)[:,0]\n",
    "y_pred0"
   ]
  },
  {
   "cell_type": "code",
   "execution_count": 90,
   "id": "61b8eaf6",
   "metadata": {},
   "outputs": [
    {
     "name": "stdout",
     "output_type": "stream",
     "text": [
      "Model accuracy score(test):  0.8311688311688312\n"
     ]
    }
   ],
   "source": [
    "# Accuracy of the model\n",
    "print('Model accuracy score(test): ', accuracy_score(y_test, y_pred_log))"
   ]
  },
  {
   "cell_type": "code",
   "execution_count": 91,
   "id": "16d65b2d",
   "metadata": {},
   "outputs": [
    {
     "name": "stdout",
     "output_type": "stream",
     "text": [
      "Training set score:  0.8021739130434783\n",
      "Test set score:  0.8311688311688312\n"
     ]
    }
   ],
   "source": [
    "#model accuracy metrics for logistic regression\n",
    "print('Training set score: ', log.score(X_train, y_train))\n",
    "\n",
    "print('Test set score: ', log.score(X_test, y_test))"
   ]
  },
  {
   "cell_type": "markdown",
   "id": "a886f326",
   "metadata": {},
   "source": [
    "The model is just right, it is performing well on the training and the test data."
   ]
  },
  {
   "cell_type": "code",
   "execution_count": 92,
   "id": "300d13c1",
   "metadata": {},
   "outputs": [
    {
     "data": {
      "text/plain": [
       "Y    111\n",
       "N     43\n",
       "Name: Loan_Status, dtype: int64"
      ]
     },
     "execution_count": 92,
     "metadata": {},
     "output_type": "execute_result"
    }
   ],
   "source": [
    "# Check null accuracy - accuracy acheived if the model keeps on predicting most frequent value\n",
    "y_test.value_counts()"
   ]
  },
  {
   "cell_type": "code",
   "execution_count": 93,
   "id": "b4cb621c",
   "metadata": {},
   "outputs": [
    {
     "data": {
      "text/plain": [
       "0.7207792207792207"
      ]
     },
     "execution_count": 93,
     "metadata": {},
     "output_type": "execute_result"
    }
   ],
   "source": [
    "null_accuracy = 111 / len(y_test)\n",
    "null_accuracy"
   ]
  },
  {
   "cell_type": "markdown",
   "id": "93ab75b1",
   "metadata": {},
   "source": [
    "The null accuracy is less than the actual accuracy of the model thus our model is not just predicting but it has learnt."
   ]
  },
  {
   "cell_type": "code",
   "execution_count": 94,
   "id": "b6da0302",
   "metadata": {},
   "outputs": [
    {
     "data": {
      "text/plain": [
       "array([[ 19,  24],\n",
       "       [  2, 109]], dtype=int64)"
      ]
     },
     "execution_count": 94,
     "metadata": {},
     "output_type": "execute_result"
    }
   ],
   "source": [
    "# Summarize the performance of the model using a confusion matrix\n",
    "con_mat = confusion_matrix(y_test, y_pred_log)\n",
    "con_mat"
   ]
  },
  {
   "cell_type": "code",
   "execution_count": 95,
   "id": "8291e2be",
   "metadata": {},
   "outputs": [
    {
     "data": {
      "text/plain": [
       "<sklearn.metrics._plot.confusion_matrix.ConfusionMatrixDisplay at 0x15afbb92160>"
      ]
     },
     "execution_count": 95,
     "metadata": {},
     "output_type": "execute_result"
    },
    {
     "data": {
      "image/png": "[encoded data removed]",
      "text/plain": [
       "<Figure size 432x288 with 2 Axes>"
      ]
     },
     "metadata": {},
     "output_type": "display_data"
    }
   ],
   "source": [
    "#Confusion matrix visual\n",
    "con_d =ConfusionMatrixDisplay(con_mat, display_labels = log.classes_)\n",
    "con_d.plot()"
   ]
  },
  {
   "cell_type": "code",
   "execution_count": 96,
   "id": "04469c86",
   "metadata": {},
   "outputs": [
    {
     "name": "stdout",
     "output_type": "stream",
     "text": [
      "              precision    recall  f1-score   support\n",
      "\n",
      "           N       0.90      0.44      0.59        43\n",
      "           Y       0.82      0.98      0.89       111\n",
      "\n",
      "    accuracy                           0.83       154\n",
      "   macro avg       0.86      0.71      0.74       154\n",
      "weighted avg       0.84      0.83      0.81       154\n",
      "\n"
     ]
    }
   ],
   "source": [
    "# Classification Report\n",
    "print(classification_report(y_test,y_pred_log))"
   ]
  },
  {
   "cell_type": "markdown",
   "id": "5ac20c5d",
   "metadata": {},
   "source": [
    "- Precision -Out of all the clients that the model predicted would be approved for loan, 82% were actually approved.\n",
    "- Recall - Out of all the clients that were actually approved for the loan, the model predicts this outcome correctly for 98% of the clients.\n",
    "- f1-score - The value is close to 1 (0.89), it tells us that the model does a good job of predicting the clients will get a loan."
   ]
  },
  {
   "cell_type": "code",
   "execution_count": 97,
   "id": "1e48eeca",
   "metadata": {},
   "outputs": [],
   "source": [
    "# Probabilities\n",
    "y_pred_prob = log.predict_proba(X_test)"
   ]
  },
  {
   "cell_type": "code",
   "execution_count": 98,
   "id": "7f3daf10",
   "metadata": {},
   "outputs": [
    {
     "data": {
      "text/html": [
       "<div>\n",
       "<style scoped>\n",
       "    .dataframe tbody tr th:only-of-type {\n",
       "        vertical-align: middle;\n",
       "    }\n",
       "\n",
       "    .dataframe tbody tr th {\n",
       "        vertical-align: top;\n",
       "    }\n",
       "\n",
       "    .dataframe thead th {\n",
       "        text-align: right;\n",
       "    }\n",
       "</style>\n",
       "<table border=\"1\" class=\"dataframe\">\n",
       "  <thead>\n",
       "    <tr style=\"text-align: right;\">\n",
       "      <th></th>\n",
       "      <th>Probability of not getting a home loan (0)</th>\n",
       "      <th>Probability of getting home loan (1)</th>\n",
       "    </tr>\n",
       "  </thead>\n",
       "  <tbody>\n",
       "    <tr>\n",
       "      <th>0</th>\n",
       "      <td>0.133827</td>\n",
       "      <td>0.866173</td>\n",
       "    </tr>\n",
       "    <tr>\n",
       "      <th>1</th>\n",
       "      <td>0.139878</td>\n",
       "      <td>0.860122</td>\n",
       "    </tr>\n",
       "    <tr>\n",
       "      <th>2</th>\n",
       "      <td>0.315871</td>\n",
       "      <td>0.684129</td>\n",
       "    </tr>\n",
       "    <tr>\n",
       "      <th>3</th>\n",
       "      <td>0.267823</td>\n",
       "      <td>0.732177</td>\n",
       "    </tr>\n",
       "    <tr>\n",
       "      <th>4</th>\n",
       "      <td>0.151370</td>\n",
       "      <td>0.848630</td>\n",
       "    </tr>\n",
       "    <tr>\n",
       "      <th>...</th>\n",
       "      <td>...</td>\n",
       "      <td>...</td>\n",
       "    </tr>\n",
       "    <tr>\n",
       "      <th>149</th>\n",
       "      <td>0.814742</td>\n",
       "      <td>0.185258</td>\n",
       "    </tr>\n",
       "    <tr>\n",
       "      <th>150</th>\n",
       "      <td>0.199154</td>\n",
       "      <td>0.800846</td>\n",
       "    </tr>\n",
       "    <tr>\n",
       "      <th>151</th>\n",
       "      <td>0.253154</td>\n",
       "      <td>0.746846</td>\n",
       "    </tr>\n",
       "    <tr>\n",
       "      <th>152</th>\n",
       "      <td>0.205323</td>\n",
       "      <td>0.794677</td>\n",
       "    </tr>\n",
       "    <tr>\n",
       "      <th>153</th>\n",
       "      <td>0.876478</td>\n",
       "      <td>0.123522</td>\n",
       "    </tr>\n",
       "  </tbody>\n",
       "</table>\n",
       "<p>154 rows × 2 columns</p>\n",
       "</div>"
      ],
      "text/plain": [
       "     Probability of not getting a home loan (0)  \\\n",
       "0                                      0.133827   \n",
       "1                                      0.139878   \n",
       "2                                      0.315871   \n",
       "3                                      0.267823   \n",
       "4                                      0.151370   \n",
       "..                                          ...   \n",
       "149                                    0.814742   \n",
       "150                                    0.199154   \n",
       "151                                    0.253154   \n",
       "152                                    0.205323   \n",
       "153                                    0.876478   \n",
       "\n",
       "     Probability of getting home loan (1)  \n",
       "0                                0.866173  \n",
       "1                                0.860122  \n",
       "2                                0.684129  \n",
       "3                                0.732177  \n",
       "4                                0.848630  \n",
       "..                                    ...  \n",
       "149                              0.185258  \n",
       "150                              0.800846  \n",
       "151                              0.746846  \n",
       "152                              0.794677  \n",
       "153                              0.123522  \n",
       "\n",
       "[154 rows x 2 columns]"
      ]
     },
     "execution_count": 98,
     "metadata": {},
     "output_type": "execute_result"
    }
   ],
   "source": [
    "# Probability of Approval and Not being approved\n",
    "y_pred_prob_df = pd.DataFrame(data=y_pred_prob, columns=['Probability of not getting a home loan (0)',\n",
    "                                                         'Probability of getting home loan (1)'])\n",
    "\n",
    "y_pred_prob_df"
   ]
  },
  {
   "cell_type": "code",
   "execution_count": 99,
   "id": "c82dae0e",
   "metadata": {},
   "outputs": [],
   "source": [
    "#Adjusting the threshold to visualize the performance of the model\n",
    "fpr, tpr, thresholds = roc_curve(y_test, y_pred1, pos_label='Y');"
   ]
  },
  {
   "cell_type": "code",
   "execution_count": 100,
   "id": "3d6e5791",
   "metadata": {},
   "outputs": [
    {
     "data": {
      "image/png": "[encoded data removed]",
      "text/plain": [
       "<Figure size 720x288 with 1 Axes>"
      ]
     },
     "metadata": {},
     "output_type": "display_data"
    }
   ],
   "source": [
    "plt.figure(figsize = (10,4))\n",
    "plt.plot(fpr, tpr, linewidth=2)\n",
    "plt.plot([0,1], [0,1], '--')\n",
    "plt.title('ROC curve for getting home loan classifier')\n",
    "plt.xlabel('False positive rate')\n",
    "plt.ylabel('True positve rate')\n",
    "plt.show()"
   ]
  },
  {
   "cell_type": "code",
   "execution_count": 101,
   "id": "4bde36bb",
   "metadata": {},
   "outputs": [
    {
     "name": "stdout",
     "output_type": "stream",
     "text": [
      "0.7580138277812696\n"
     ]
    }
   ],
   "source": [
    "# Area Under the curve\n",
    "ROC_AUC = roc_auc_score(y_test, y_pred1)\n",
    "\n",
    "print(ROC_AUC)"
   ]
  },
  {
   "cell_type": "markdown",
   "id": "7d76bb39",
   "metadata": {},
   "source": [
    "The AUC is acceptable with the model having a 75.8 % being able to distinguish between the approval or disapproval of the homeloan."
   ]
  },
  {
   "cell_type": "markdown",
   "id": "f91687dc",
   "metadata": {},
   "source": [
    "### 3. Random Forest Classifier"
   ]
  },
  {
   "cell_type": "code",
   "execution_count": 102,
   "id": "29b14423",
   "metadata": {},
   "outputs": [
    {
     "data": {
      "text/plain": [
       "RandomForestClassifier(max_depth=2, random_state=0)"
      ]
     },
     "execution_count": 102,
     "metadata": {},
     "output_type": "execute_result"
    }
   ],
   "source": [
    "#Fitting the random forest classifier\n",
    "rfc = RandomForestClassifier(max_depth = 2, random_state = 0)\n",
    "rfc.fit(X_train, y_train)"
   ]
  },
  {
   "cell_type": "code",
   "execution_count": 103,
   "id": "e90471b7",
   "metadata": {},
   "outputs": [],
   "source": [
    "#Prediction on test data\n",
    "y_pred_rfc = rfc.predict(X_test)"
   ]
  },
  {
   "cell_type": "code",
   "execution_count": 104,
   "id": "d85c445e",
   "metadata": {},
   "outputs": [
    {
     "data": {
      "text/plain": [
       "0.8311688311688312"
      ]
     },
     "execution_count": 104,
     "metadata": {},
     "output_type": "execute_result"
    }
   ],
   "source": [
    "#Accuracy of the model\n",
    "acc_rfc = accuracy_score(y_test,y_pred_rfc)\n",
    "acc_rfc"
   ]
  },
  {
   "cell_type": "code",
   "execution_count": 105,
   "id": "6a695252",
   "metadata": {},
   "outputs": [
    {
     "name": "stdout",
     "output_type": "stream",
     "text": [
      "Training set score:  0.8021739130434783\n",
      "Test set score:  0.8311688311688312\n"
     ]
    }
   ],
   "source": [
    "#model accuracy metrics for RandomForestClassifier\n",
    "print('Training set score: ', rfc.score(X_train, y_train))\n",
    "\n",
    "print('Test set score: ', rfc.score(X_test, y_test))"
   ]
  },
  {
   "cell_type": "markdown",
   "id": "6bf48e95",
   "metadata": {},
   "source": [
    "The model is performing well on both the training and the test data"
   ]
  },
  {
   "cell_type": "markdown",
   "id": "c90e6d13",
   "metadata": {},
   "source": [
    "#### Evaluating the results."
   ]
  },
  {
   "cell_type": "code",
   "execution_count": 106,
   "id": "e8ef0521",
   "metadata": {},
   "outputs": [
    {
     "name": "stdout",
     "output_type": "stream",
     "text": [
      "Classification report: \n",
      "\n",
      "Accuracy:  0.8311688311688312 \n",
      "\n",
      "              precision    recall  f1-score   support\n",
      "\n",
      "           N       0.44      0.90      0.59        21\n",
      "           Y       0.98      0.82      0.89       133\n",
      "\n",
      "    accuracy                           0.83       154\n",
      "   macro avg       0.71      0.86      0.74       154\n",
      "weighted avg       0.91      0.83      0.85       154\n",
      "\n",
      "Confusion matrix:\n",
      "[[ 19  24]\n",
      " [  2 109]]\n"
     ]
    }
   ],
   "source": [
    "report_rfc = classification_report(y_pred_rfc, y_test)\n",
    "cm_rfc = confusion_matrix(y_test, y_pred_rfc)\n",
    "\n",
    "print(\"Classification report: \\n\")\n",
    "print(\"Accuracy: \", acc_rfc,\"\\n\")\n",
    "print(report_rfc)\n",
    "print(\"Confusion matrix:\")\n",
    "print(cm_rfc)"
   ]
  },
  {
   "cell_type": "markdown",
   "id": "3475cbee",
   "metadata": {},
   "source": [
    "- Precision -Out of all the clients that the model predicted would be approved for loan, 98% were actually approved.\n",
    "- Recall - Out of all the clients that were actually approved for the loan, the model predicts this outcome correctly for 82% of the clients.\n",
    "- f1-score - The value is close to 1 (0.89), it tells us that the model does a good job of predicting the clients will get a loan."
   ]
  },
  {
   "cell_type": "code",
   "execution_count": 107,
   "id": "f3e00c00",
   "metadata": {},
   "outputs": [],
   "source": [
    "# Probabilities\n",
    "y_pred_prob_rfc = rfc.predict_proba(X_test)"
   ]
  },
  {
   "cell_type": "code",
   "execution_count": 108,
   "id": "d5caca90",
   "metadata": {},
   "outputs": [
    {
     "data": {
      "text/html": [
       "<div>\n",
       "<style scoped>\n",
       "    .dataframe tbody tr th:only-of-type {\n",
       "        vertical-align: middle;\n",
       "    }\n",
       "\n",
       "    .dataframe tbody tr th {\n",
       "        vertical-align: top;\n",
       "    }\n",
       "\n",
       "    .dataframe thead th {\n",
       "        text-align: right;\n",
       "    }\n",
       "</style>\n",
       "<table border=\"1\" class=\"dataframe\">\n",
       "  <thead>\n",
       "    <tr style=\"text-align: right;\">\n",
       "      <th></th>\n",
       "      <th>Probability of not getting a home loan (0)</th>\n",
       "      <th>Probability of not getting home loan (1)</th>\n",
       "    </tr>\n",
       "  </thead>\n",
       "  <tbody>\n",
       "    <tr>\n",
       "      <th>0</th>\n",
       "      <td>0.247195</td>\n",
       "      <td>0.752805</td>\n",
       "    </tr>\n",
       "    <tr>\n",
       "      <th>1</th>\n",
       "      <td>0.252176</td>\n",
       "      <td>0.747824</td>\n",
       "    </tr>\n",
       "    <tr>\n",
       "      <th>2</th>\n",
       "      <td>0.302040</td>\n",
       "      <td>0.697960</td>\n",
       "    </tr>\n",
       "    <tr>\n",
       "      <th>3</th>\n",
       "      <td>0.290726</td>\n",
       "      <td>0.709274</td>\n",
       "    </tr>\n",
       "    <tr>\n",
       "      <th>4</th>\n",
       "      <td>0.264081</td>\n",
       "      <td>0.735919</td>\n",
       "    </tr>\n",
       "    <tr>\n",
       "      <th>...</th>\n",
       "      <td>...</td>\n",
       "      <td>...</td>\n",
       "    </tr>\n",
       "    <tr>\n",
       "      <th>149</th>\n",
       "      <td>0.540619</td>\n",
       "      <td>0.459381</td>\n",
       "    </tr>\n",
       "    <tr>\n",
       "      <th>150</th>\n",
       "      <td>0.297540</td>\n",
       "      <td>0.702460</td>\n",
       "    </tr>\n",
       "    <tr>\n",
       "      <th>151</th>\n",
       "      <td>0.291730</td>\n",
       "      <td>0.708270</td>\n",
       "    </tr>\n",
       "    <tr>\n",
       "      <th>152</th>\n",
       "      <td>0.280820</td>\n",
       "      <td>0.719180</td>\n",
       "    </tr>\n",
       "    <tr>\n",
       "      <th>153</th>\n",
       "      <td>0.543331</td>\n",
       "      <td>0.456669</td>\n",
       "    </tr>\n",
       "  </tbody>\n",
       "</table>\n",
       "<p>154 rows × 2 columns</p>\n",
       "</div>"
      ],
      "text/plain": [
       "     Probability of not getting a home loan (0)  \\\n",
       "0                                      0.247195   \n",
       "1                                      0.252176   \n",
       "2                                      0.302040   \n",
       "3                                      0.290726   \n",
       "4                                      0.264081   \n",
       "..                                          ...   \n",
       "149                                    0.540619   \n",
       "150                                    0.297540   \n",
       "151                                    0.291730   \n",
       "152                                    0.280820   \n",
       "153                                    0.543331   \n",
       "\n",
       "     Probability of not getting home loan (1)  \n",
       "0                                    0.752805  \n",
       "1                                    0.747824  \n",
       "2                                    0.697960  \n",
       "3                                    0.709274  \n",
       "4                                    0.735919  \n",
       "..                                        ...  \n",
       "149                                  0.459381  \n",
       "150                                  0.702460  \n",
       "151                                  0.708270  \n",
       "152                                  0.719180  \n",
       "153                                  0.456669  \n",
       "\n",
       "[154 rows x 2 columns]"
      ]
     },
     "execution_count": 108,
     "metadata": {},
     "output_type": "execute_result"
    }
   ],
   "source": [
    "y_pred_prob_rfc = pd.DataFrame(data=y_pred_prob_rfc, columns=['Probability of not getting a home loan (0)',\n",
    "                                                         'Probability of not getting home loan (1)'])\n",
    "\n",
    "y_pred_prob_rfc"
   ]
  },
  {
   "cell_type": "code",
   "execution_count": 109,
   "id": "11b6c2d1",
   "metadata": {},
   "outputs": [
    {
     "data": {
      "text/plain": [
       "array([0.75280523, 0.747824  , 0.69796022, 0.70927446, 0.73591899,\n",
       "       0.38810786, 0.68824818, 0.73498396, 0.42487251, 0.7209386 ,\n",
       "       0.75292411, 0.73572803, 0.73880313, 0.70607916, 0.73507983,\n",
       "       0.70906105, 0.70707553, 0.71769832, 0.73146789, 0.3942935 ,\n",
       "       0.39972612, 0.72503299, 0.71185961, 0.68299178, 0.71374209,\n",
       "       0.70446543, 0.71423958, 0.69457141, 0.47103816, 0.46930714,\n",
       "       0.70294166, 0.66703273, 0.7046309 , 0.68952289, 0.7106239 ,\n",
       "       0.44562137, 0.70730298, 0.66220488, 0.72186257, 0.7015539 ,\n",
       "       0.73123006, 0.42524843, 0.73711172, 0.66164665, 0.7520913 ,\n",
       "       0.69305643, 0.71786601, 0.74578829, 0.68859024, 0.70516131,\n",
       "       0.70566848, 0.7058988 , 0.65193231, 0.70913511, 0.68705097,\n",
       "       0.69883091, 0.7172696 , 0.66633045, 0.6999523 , 0.70510455,\n",
       "       0.41056556, 0.73391613, 0.67908847, 0.41806722, 0.72843846,\n",
       "       0.69340588, 0.71766569, 0.7491043 , 0.67374316, 0.71839172,\n",
       "       0.71502862, 0.73132681, 0.64258104, 0.66200845, 0.7209526 ,\n",
       "       0.68933416, 0.60319345, 0.70833952, 0.71636605, 0.48593685,\n",
       "       0.67558593, 0.70778405, 0.71132795, 0.701738  , 0.71865306,\n",
       "       0.66312972, 0.69798421, 0.58765857, 0.71669119, 0.72570402,\n",
       "       0.70849451, 0.73056349, 0.67374479, 0.43960687, 0.72037435,\n",
       "       0.41508715, 0.73463758, 0.73465153, 0.68062057, 0.69985794,\n",
       "       0.68575945, 0.71530797, 0.6937603 , 0.71544668, 0.70655068,\n",
       "       0.72397789, 0.66493392, 0.72768207, 0.6822689 , 0.65122378,\n",
       "       0.7009428 , 0.7129641 , 0.70782127, 0.72318659, 0.44116224,\n",
       "       0.4076568 , 0.73271859, 0.75033013, 0.68706708, 0.69268628,\n",
       "       0.71442683, 0.41105556, 0.71592651, 0.71727917, 0.72633877,\n",
       "       0.40199001, 0.72132754, 0.71616868, 0.69279315, 0.7042792 ,\n",
       "       0.72619887, 0.68695778, 0.74539498, 0.75861425, 0.68629333,\n",
       "       0.72852549, 0.66382239, 0.74603793, 0.75393515, 0.73056349,\n",
       "       0.64724318, 0.7063519 , 0.38864105, 0.68810054, 0.72958045,\n",
       "       0.71270586, 0.72923404, 0.73439242, 0.43353904, 0.45938073,\n",
       "       0.70246032, 0.70827035, 0.71917962, 0.4566695 ])"
      ]
     },
     "execution_count": 109,
     "metadata": {},
     "output_type": "execute_result"
    }
   ],
   "source": [
    "#Probability of a loan being approved\n",
    "y_pred_Yes1 = rfc.predict_proba(X_test)[:,1]\n",
    "y_pred_Yes1"
   ]
  },
  {
   "cell_type": "code",
   "execution_count": 110,
   "id": "46f9f0c9",
   "metadata": {},
   "outputs": [],
   "source": [
    "#Adjusting the threshold to visualize the performance of the model\n",
    "fpr_rfc, tpr_rfc, thresholds_rfc = roc_curve(y_test, y_pred_Yes1, pos_label='Y')"
   ]
  },
  {
   "cell_type": "code",
   "execution_count": 111,
   "id": "d1293a5e",
   "metadata": {},
   "outputs": [
    {
     "data": {
      "image/png": "[encoded data removed]",
      "text/plain": [
       "<Figure size 720x288 with 1 Axes>"
      ]
     },
     "metadata": {},
     "output_type": "display_data"
    }
   ],
   "source": [
    "plt.figure(figsize = (10,4))\n",
    "plt.plot(fpr_rfc, tpr_rfc, linewidth=2)\n",
    "plt.plot([0,1], [0,1], '--')\n",
    "plt.title('ROC curve for getting home loan classifier')\n",
    "plt.xlabel('False positive rate')\n",
    "plt.ylabel('True positve rate')\n",
    "plt.show()"
   ]
  },
  {
   "cell_type": "code",
   "execution_count": 112,
   "id": "84cdd63a",
   "metadata": {},
   "outputs": [
    {
     "name": "stdout",
     "output_type": "stream",
     "text": [
      "0.7053216006704379\n"
     ]
    }
   ],
   "source": [
    "# Area Under the curve\n",
    "ROC_AUC = roc_auc_score(y_test,y_pred_Yes1)\n",
    "\n",
    "print(ROC_AUC)"
   ]
  },
  {
   "cell_type": "markdown",
   "id": "7794fae4",
   "metadata": {},
   "source": [
    "The AUC is acceptable with the model having a 70. 5% being able to distinguish between the approval or disapproval of the homeloan."
   ]
  },
  {
   "cell_type": "markdown",
   "id": "ec2c4e7c",
   "metadata": {},
   "source": [
    "### Conclusion"
   ]
  },
  {
   "cell_type": "markdown",
   "id": "969acf0b",
   "metadata": {},
   "source": [
    "- Athough the Classification report was able to provide a report on the status of a loan being approved, on all our models the classification report was not consistent in the case of predicting home loan not approved for the recall, precision and f1-score.\n",
    "- In improving our classification report it is observed that most of the methods to improve it are already applied(missing value treatment, feature engineering, hyperparameters tuning, application of different models), on treatment of outliers they wouldn't be removed since different clients have different loan eligibilities.\n",
    "### Recommendation: \n",
    "More data needs to be acquired to increase the sample."
   ]
  },
  {
   "cell_type": "code",
   "execution_count": null,
   "id": "e99d5ab1",
   "metadata": {},
   "outputs": [],
   "source": []
  }
 ],
 "metadata": {
  "kernelspec": {
   "display_name": "Python 3 (ipykernel)",
   "language": "python",
   "name": "python3"
  },
  "language_info": {
   "codemirror_mode": {
    "name": "ipython",
    "version": 3
   },
   "file_extension": ".py",
   "mimetype": "text/x-python",
   "name": "python",
   "nbconvert_exporter": "python",
   "pygments_lexer": "ipython3",
   "version": "3.9.12"
  }
 },
 "nbformat": 4,
 "nbformat_minor": 5
}
